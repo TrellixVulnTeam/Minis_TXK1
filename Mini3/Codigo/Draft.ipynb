{
 "cells": [
  {
   "cell_type": "code",
   "execution_count": null,
   "metadata": {},
   "outputs": [],
   "source": [
    "import random"
   ]
  },
  {
   "cell_type": "code",
   "execution_count": null,
   "metadata": {},
   "outputs": [],
   "source": [
    "def caso1():\n",
    "    t = ta\n",
    "    Na+=1\n",
    "    n+=1\n",
    "    u1 = random.random()\n",
    "    Tt = poisson(u1)\n",
    "    ta = Tt\n",
    "    if (n == 1):\n",
    "        u2 = random.random()\n",
    "        Y = exponencial(u2)\n",
    "        td = t + Y\n",
    "    A[Na] = t\n",
    "    "
   ]
  },
  {
   "cell_type": "code",
   "execution_count": 2,
   "metadata": {},
   "outputs": [
    {
     "name": "stdout",
     "output_type": "stream",
     "text": [
      "2\n"
     ]
    }
   ],
   "source": [
    "def caso3():\n",
    "    t = td\n",
    "    n-=1\n",
    "    Nd+=1\n",
    "    if(n > 0):\n",
    "        u = random.random()\n",
    "        Y = exponencial(u)\n",
    "        td = t + Y\n",
    "    D[Nd] = t"
   ]
  }
 ],
 "metadata": {
  "kernelspec": {
   "display_name": "Python 3",
   "language": "python",
   "name": "python3"
  },
  "language_info": {
   "codemirror_mode": {
    "name": "ipython",
    "version": 3
   },
   "file_extension": ".py",
   "mimetype": "text/x-python",
   "name": "python",
   "nbconvert_exporter": "python",
   "pygments_lexer": "ipython3",
   "version": "3.7.4"
  }
 },
 "nbformat": 4,
 "nbformat_minor": 2
}
