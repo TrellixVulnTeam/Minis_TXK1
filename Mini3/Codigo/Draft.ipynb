{
 "cells": [
  {
   "cell_type": "code",
   "execution_count": 1,
   "metadata": {},
   "outputs": [],
   "source": [
    "import random\n",
    "import math"
   ]
  },
  {
   "cell_type": "code",
   "execution_count": 2,
   "metadata": {},
   "outputs": [],
   "source": [
    "# caracteristicas servidor\n",
    "T = 0\n",
    "lde = 100\n",
    "ldpp = 2400/60"
   ]
  },
  {
   "cell_type": "code",
   "execution_count": 3,
   "metadata": {},
   "outputs": [],
   "source": [
    "def poisson():\n",
    "    return t-((1/ldpp)*math.log(random.random()))"
   ]
  },
  {
   "cell_type": "code",
   "execution_count": 4,
   "metadata": {},
   "outputs": [],
   "source": [
    "def exponencial():\n",
    "    return t-(lde*math.exp(-lde*random.random()))"
   ]
  },
  {
   "cell_type": "code",
   "execution_count": 5,
   "metadata": {},
   "outputs": [],
   "source": [
    "# variables globales\n",
    "t = 0\n",
    "T = 3600\n",
    "Na = 0\n",
    "Nd = 0\n",
    "n = 0\n",
    "T0 = poisson()\n",
    "ta = T0\n",
    "td = float('Inf')\n",
    "Tp = 0\n",
    "A = []\n",
    "D = []"
   ]
  },
  {
   "cell_type": "code",
   "execution_count": 6,
   "metadata": {},
   "outputs": [],
   "source": [
    "def caso1():\n",
    "    t = ta\n",
    "    Na+=1\n",
    "    n+=1\n",
    "    Tt = poisson()\n",
    "    ta = Tt\n",
    "    if (n == 1):\n",
    "        Y = exponencial()\n",
    "        td = t + Y\n",
    "    A.append(t)   "
   ]
  },
  {
   "cell_type": "code",
   "execution_count": 7,
   "metadata": {},
   "outputs": [],
   "source": [
    "def caso2():\n",
    "    t = td\n",
    "    n-=1\n",
    "    Nd+=1\n",
    "    if(n == 0):\n",
    "        td = float('Inf')\n",
    "    else:\n",
    "        Y = exponencial()\n",
    "        td = t + Y\n",
    "    D.append(t)"
   ]
  },
  {
   "cell_type": "code",
   "execution_count": 8,
   "metadata": {},
   "outputs": [],
   "source": [
    "def caso3():\n",
    "    t = td\n",
    "    n-=1\n",
    "    Nd+=1\n",
    "    if(n > 0):\n",
    "        Y = exponencial()\n",
    "        td = t + Y\n",
    "    D.append(t)"
   ]
  },
  {
   "cell_type": "code",
   "execution_count": 9,
   "metadata": {},
   "outputs": [],
   "source": [
    "def caso4():\n",
    "    Tp = max(t-T,0)"
   ]
  },
  {
   "cell_type": "code",
   "execution_count": 10,
   "metadata": {},
   "outputs": [],
   "source": [
    "def selector():\n",
    "    if(ta <= td and ta <= T):\n",
    "        # El siguiente evento es una llegada de una solicitud al \n",
    "        # sistema y aún no es la hora de cierre. \n",
    "        caso1()\n",
    "    elif(td < ta and td <= T):\n",
    "        # El siguiente evento es una salida de una solicitud del\n",
    "        # sistema y aún no es la hora de cierre.\n",
    "        caso2()\n",
    "    elif(min(ta,td)>T and n > 0):\n",
    "        # El próximo evento ocurre luego de la hora de cierre \n",
    "        # y aún hay solicitudes en el sistema.\n",
    "        caso3()\n",
    "    else:\n",
    "        # El próximo evento ocurre luego de la hora de cierre\n",
    "        # y ya no hay solicitudes en cola.\n",
    "        caso4()\n",
    "        "
   ]
  },
  {
   "cell_type": "code",
   "execution_count": null,
   "metadata": {},
   "outputs": [],
   "source": [
    "def tiempoOcupado():\n",
    "    for i in range(0,len(A)):\n",
    "        tO = tO + (D[i] - A[i]) # tiempo ocupado\n",
    "    for j in range(0,len(A)-1):\n",
    "        tD = tD + (A[j+1] - D[j]) # tiempo desocupado\n",
    "    return tO, tD\n",
    "        "
   ]
  },
  {
   "cell_type": "code",
   "execution_count": null,
   "metadata": {},
   "outputs": [],
   "source": [
    "while(t < T):\n",
    "    selector()\n",
    "print(\"Solicitudes ingresadas\",Na)\n",
    "print(\"Solicitudes egresadas\",Nd)\n",
    "print(\"Tiempo ocupado\", tiempoOcupado()[0])\n",
    "print(\"Tiempo desocupado\",tiempoOcupado()[1])\n"
   ]
  }
 ],
 "metadata": {
  "kernelspec": {
   "display_name": "Python 3",
   "language": "python",
   "name": "python3"
  },
  "language_info": {
   "codemirror_mode": {
    "name": "ipython",
    "version": 3
   },
   "file_extension": ".py",
   "mimetype": "text/x-python",
   "name": "python",
   "nbconvert_exporter": "python",
   "pygments_lexer": "ipython3",
   "version": "3.7.4"
  }
 },
 "nbformat": 4,
 "nbformat_minor": 2
}
