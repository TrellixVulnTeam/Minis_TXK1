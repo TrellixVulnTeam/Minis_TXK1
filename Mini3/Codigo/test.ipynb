{
 "cells": [
  {
   "cell_type": "code",
   "execution_count": 1,
   "metadata": {},
   "outputs": [],
   "source": [
    "class System:\n",
    "    def __init__(self,T,ldp,lde):\n",
    "        self.T = T\n",
    "        self.ldp = ldp\n",
    "        self.lde = lde\n",
    "    def changeT(self,T):\n",
    "        self.T = T\n",
    "    \n",
    "    def getT(self):\n",
    "        return self.T   \n"
   ]
  },
  {
   "cell_type": "code",
   "execution_count": 2,
   "metadata": {},
   "outputs": [],
   "source": [
    "def foo(item):\n",
    "    print(item.getT())"
   ]
  },
  {
   "cell_type": "code",
   "execution_count": 3,
   "metadata": {},
   "outputs": [
    {
     "name": "stdout",
     "output_type": "stream",
     "text": [
      "10\n",
      "20\n",
      "a\n",
      "20\n",
      "b\n",
      "21\n"
     ]
    }
   ],
   "source": [
    "myObj = System(10,100,40)\n",
    "foo(myObj)\n",
    "myObj.changeT(20)\n",
    "foo(myObj)\n",
    "print(\"a\")\n",
    "print(myObj.T)\n",
    "print(\"b\")\n",
    "myObj.T += 1\n",
    "print(myObj.T)"
   ]
  },
  {
   "cell_type": "code",
   "execution_count": null,
   "metadata": {},
   "outputs": [],
   "source": []
  }
 ],
 "metadata": {
  "kernelspec": {
   "display_name": "myenv",
   "language": "python",
   "name": "myenv"
  },
  "language_info": {
   "codemirror_mode": {
    "name": "ipython",
    "version": 3
   },
   "file_extension": ".py",
   "mimetype": "text/x-python",
   "name": "python",
   "nbconvert_exporter": "python",
   "pygments_lexer": "ipython3",
   "version": "3.7.4"
  }
 },
 "nbformat": 4,
 "nbformat_minor": 2
}
