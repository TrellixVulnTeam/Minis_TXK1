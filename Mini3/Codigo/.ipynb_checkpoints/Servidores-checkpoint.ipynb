{
 "cells": [
  {
   "cell_type": "code",
   "execution_count": null,
   "metadata": {},
   "outputs": [],
   "source": [
    "def exponencial(lde,t):\n",
    "    return -((1/lde)*math.log(random.random()))"
   ]
  },
  {
   "cell_type": "code",
   "execution_count": null,
   "metadata": {},
   "outputs": [],
   "source": [
    "def poisson(ldpp,t):\n",
    "    return t-((1/ldpp)*math.log(random.random()))"
   ]
  },
  {
   "cell_type": "code",
   "execution_count": 2,
   "metadata": {},
   "outputs": [],
   "source": [
    "class task:\n",
    "    def __init__(self, ta):\n",
    "        self.t_llegada = ta\n",
    "        self.t_atendido = float('Inf')\n",
    "        self.t_salida = float('Inf')\n",
    "    \n",
    "    def set_atendido(self, ta):\n",
    "        self.t_atendido = ta\n",
    "        \n",
    "    def set_salida(self,ta):\n",
    "        self.t_salida = ta\n",
    "    \n",
    "    def get_atendido(self):\n",
    "        return self.t_atendido\n",
    "    \n",
    "    def get_salida(self):\n",
    "        return self.t_salida\n",
    "    \n",
    "    def get_tiempoT(self):\n",
    "        return (self.t_salida - self.t_llegada)\n",
    "    \n",
    "    def get_tiempoEnServ(self):\n",
    "        return (self.t_salida - self.t_atendido)"
   ]
  },
  {
   "cell_type": "code",
   "execution_count": null,
   "metadata": {},
   "outputs": [],
   "source": [
    "class SystemSim:\n",
    "    def __init__(self, T, ldp, lde, servidores):\n",
    "        #parametros cambian\n",
    "        self.T = T\n",
    "        self.ldp = ldp\n",
    "        self.lde = lde\n",
    "        \n",
    "        #parametros constantes\n",
    "        self.t = 0\n",
    "        self.Na = 0\n",
    "        self.Nd = 0\n",
    "        self.n = 0\n",
    "        self.ta = poisson(ldp,self.t)\n",
    "        \n",
    "        #listas\n",
    "        self.cola_eventos = []"
   ]
  },
  {
   "cell_type": "code",
   "execution_count": null,
   "metadata": {},
   "outputs": [],
   "source": [
    "def simulador(T,ldp,lde):\n",
    "    #se crea el sistema con todos los parametros\n",
    "    world = SystemSim(2,2400/60,100,1)"
   ]
  }
 ],
 "metadata": {
  "kernelspec": {
   "display_name": "Python 3",
   "language": "python",
   "name": "python3"
  },
  "language_info": {
   "codemirror_mode": {
    "name": "ipython",
    "version": 3
   },
   "file_extension": ".py",
   "mimetype": "text/x-python",
   "name": "python",
   "nbconvert_exporter": "python",
   "pygments_lexer": "ipython3",
   "version": "3.7.4"
  }
 },
 "nbformat": 4,
 "nbformat_minor": 2
}
