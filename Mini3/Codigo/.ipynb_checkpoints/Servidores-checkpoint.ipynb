{
 "cells": [
  {
   "cell_type": "code",
   "execution_count": 76,
   "metadata": {},
   "outputs": [],
   "source": [
    "import math\n",
    "import random"
   ]
  },
  {
   "cell_type": "code",
   "execution_count": 77,
   "metadata": {
    "scrolled": true
   },
   "outputs": [],
   "source": [
    "def exponencial(lde,t):\n",
    "    return -((1/lde)*math.log(random.random()))"
   ]
  },
  {
   "cell_type": "code",
   "execution_count": 78,
   "metadata": {
    "scrolled": true
   },
   "outputs": [],
   "source": [
    "def poisson(ldpp,t):\n",
    "    return t-((1/ldpp)*math.log(random.random()))"
   ]
  },
  {
   "cell_type": "code",
   "execution_count": 79,
   "metadata": {
    "scrolled": true
   },
   "outputs": [],
   "source": [
    "class task:\n",
    "    def __init__(self, ta):\n",
    "        self.t_llegada = ta\n",
    "        self.t_atendido = float('Inf')\n",
    "        self.t_salida = float('Inf')\n",
    "    \n",
    "    #devuelve el tiempo total del task\n",
    "    def get_tiempoT(self):\n",
    "        return (self.t_salida - self.t_llegada)\n",
    "    \n",
    "    #devuelve el tiempo en servidor\n",
    "    def get_tiempoEnServ(self):\n",
    "        return (self.t_salida - self.t_atendido)"
   ]
  },
  {
   "cell_type": "code",
   "execution_count": 80,
   "metadata": {
    "scrolled": true
   },
   "outputs": [],
   "source": [
    "class server:\n",
    "    def __init__(self):\n",
    "        self.bussy = False\n",
    "    \n",
    "    def assign_task(taske):\n",
    "        self.bussy = True\n",
    "        self.task_running = taske\n",
    "        \n",
    "        "
   ]
  },
  {
   "cell_type": "code",
   "execution_count": 81,
   "metadata": {
    "scrolled": true
   },
   "outputs": [],
   "source": [
    "class SystemSim:\n",
    "    def __init__(self, T, ldp, lde, servidores):\n",
    "        #flags\n",
    "        self.serv_working = True #cambia hasta el caso 4\n",
    "        #parametros cambian\n",
    "        self.T = T\n",
    "        self.ldp = ldp\n",
    "        self.lde = lde\n",
    "        \n",
    "        #parametros constantes\n",
    "        self.t = 0\n",
    "        self.Na = 0\n",
    "        self.Nd = 0\n",
    "        self.n = 0\n",
    "        self.ta = poisson(ldp,self.t)\n",
    "        \n",
    "        #listas\n",
    "        self.cola_eventos = []\n",
    "        self.tiempos_salida = []\n",
    "        self.servidores = []\n",
    "        \n",
    "        #inicializo objetos servidor\n",
    "        for i in range(servidores):\n",
    "            self.servidores.append(server())\n",
    "            self.tiempos_salida.append(float('Inf'))\n",
    "            \n",
    "    #Verifica si aun hay tiempo de ejecucion\n",
    "    def get_span(self):\n",
    "        if(self.t < self.T and serv_working):\n",
    "            return True\n",
    "        else:\n",
    "            return False\n",
    "    \n",
    "    #el posible problema es que no se toma de la lista de eventos existentes\n",
    "    #por eso inicia a correrse la lista despues de ciertas iteraciones.\n",
    "    #agrega un nuevo objeto a la cola\n",
    "    def add_task(self,ta):\n",
    "        servidor_pos = get_free()\n",
    "        #existe un servidor desocupado\n",
    "        if(servidor_pos > -1):\n",
    "            #se crea un task y se asigna a un servidor\n",
    "            self.servidores[servidor_pos].assign_task(task(ta))\n",
    "            self.servidores[servidor_pos].task_running.t_atendido = ta #se atiende solo llegando\n",
    "            \n",
    "        #no existe un servidor desocupado solo se agrega de la lista\n",
    "        else:\n",
    "            self.cola_eventos.append(task(ta))\n",
    "        \n",
    "    \n",
    "    #identifica que servidor esta libre\n",
    "    def get_free(self):\n",
    "        #devuelve -1 si no hay libres\n",
    "        for (i in range(self.servidores)):\n",
    "            if(!self.servidores[i].bussy):\n",
    "                return i\n",
    "        return -1\n",
    "    \n",
    "    #devuelve el tiempo de salida mas pequeño\n",
    "    def get_td(self):\n",
    "        \n",
    "        for()\n",
    "        \n",
    "    #debug block\n",
    "    def deb(self):\n",
    "        for i in self.servidores:\n",
    "            i.get_State()\n",
    "        print(self.servidores.count())\n",
    "        "
   ]
  },
  {
   "cell_type": "code",
   "execution_count": null,
   "metadata": {},
   "outputs": [],
   "source": [
    "def caso1(world):\n",
    "    world.t = world.ta\n",
    "    world.Na += 1\n",
    "    world.n += 1\n",
    "    world.ta = poisson(world.ldp,wolrd.t)\n",
    "    world.add_task(t)\n",
    "    "
   ]
  },
  {
   "cell_type": "code",
   "execution_count": null,
   "metadata": {},
   "outputs": [],
   "source": [
    "def selector(world):\n",
    "    if(world.ta < min(world.td) and world.ta <= T):\n",
    "        #llega evento y sistema con tiempo\n",
    "        #caso 1\n",
    "        world = caso1(world)\n",
    "        \n",
    "    #se devuelve el objeto modificado\n",
    "    return world"
   ]
  },
  {
   "cell_type": "code",
   "execution_count": 82,
   "metadata": {},
   "outputs": [],
   "source": [
    "def simulador(T,ldp,lde,servidores):\n",
    "    #se crea el sistema con todos los parametros\n",
    "    world = SystemSim(T,ldp,lde,servidores)\n",
    "    \n",
    "    while(world.get_span()):\n",
    "        world = selector(world)\n",
    "        "
   ]
  },
  {
   "cell_type": "code",
   "execution_count": 83,
   "metadata": {},
   "outputs": [
    {
     "name": "stdout",
     "output_type": "stream",
     "text": [
      "False\n",
      "False\n",
      "a\n"
     ]
    }
   ],
   "source": [
    "simulacion = simulador(2,2400/60,100,2)"
   ]
  }
 ],
 "metadata": {
  "kernelspec": {
   "display_name": "myenv",
   "language": "python",
   "name": "myenv"
  },
  "language_info": {
   "codemirror_mode": {
    "name": "ipython",
    "version": 3
   },
   "file_extension": ".py",
   "mimetype": "text/x-python",
   "name": "python",
   "nbconvert_exporter": "python",
   "pygments_lexer": "ipython3",
   "version": "3.7.4"
  }
 },
 "nbformat": 4,
 "nbformat_minor": 2
}
