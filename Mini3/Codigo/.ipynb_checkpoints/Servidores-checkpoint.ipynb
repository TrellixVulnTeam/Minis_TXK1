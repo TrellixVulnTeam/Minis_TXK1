{
 "cells": [
  {
   "cell_type": "code",
   "execution_count": 145,
   "metadata": {},
   "outputs": [],
   "source": [
    "import math\n",
    "import random"
   ]
  },
  {
   "cell_type": "code",
   "execution_count": 146,
   "metadata": {},
   "outputs": [],
   "source": [
    "def exponencial(lde,t):\n",
    "    return -((1/lde)*math.log(random.random()))"
   ]
  },
  {
   "cell_type": "code",
   "execution_count": 147,
   "metadata": {},
   "outputs": [],
   "source": [
    "def poisson(ldpp,t):\n",
    "    return t-((1/ldpp)*math.log(random.random()))"
   ]
  },
  {
   "cell_type": "code",
   "execution_count": 148,
   "metadata": {},
   "outputs": [],
   "source": [
    "def getFree(td):\n",
    "    for i in range(len(td)):\n",
    "        if(td[i] == float('Inf')):\n",
    "            return i #el servidor está libre\n",
    "    return -1 #ningún servidor esta libre"
   ]
  },
  {
   "cell_type": "code",
   "execution_count": 149,
   "metadata": {},
   "outputs": [],
   "source": [
    "#llega evento al sistema\n",
    "def caso1(t,Na,Nd,n,ta,td,A,D,Inf,C,Tp,ldpp,lde,lastID,T):\n",
    "    t = ta\n",
    "    Na+=1\n",
    "    n+=1\n",
    "    Tt = poisson(ldpp,t)\n",
    "    ta = Tt\n",
    "    #revisar si alguno está libre\n",
    "    index = getFree(td)\n",
    "    if(index != -1):\n",
    "        Inf[index] = Na-1 #almaceno ID (Na=1 pero array inicia en 0)\n",
    "        td[index] = t + exponencial(lde,t) #se almacena el tiempo en que saldra este evento\n",
    "        lastID = lastID+1\n",
    "    A.append(t)\n",
    "    D.append(float('Inf')) #se hace el espacio del evento\n",
    "    return t,Na,Nd,n,ta,td,A,D,Inf,C,Tp,ldpp,lde,lastID,T"
   ]
  },
  {
   "cell_type": "code",
   "execution_count": 150,
   "metadata": {},
   "outputs": [],
   "source": [
    "#un evento en el sistema a finalizado\n",
    "def caso2(t,Na,Nd,n,ta,td,A,D,Inf,C,Tp,ldpp,lde,lastID,T):\n",
    "    t = min(td)\n",
    "    index = td.index(min(td)) #obtengo el servidor que lo está ejecutando\n",
    "    n-=1\n",
    "    Nd+=1\n",
    "    print(\"td: \" td)\n",
    "    print(\"index: \",index)\n",
    "    print(\"Inf: \",Inf[index])\n",
    "    print(\"D: \", D)\n",
    "    D[Inf[index]] = t\n",
    "    C[index] = C[index]+1 #atendio otro evento\n",
    "    \n",
    "    #no hay mas eventos (IDLE)\n",
    "    if(n == 0):\n",
    "        Inf[index] =  -1 #no hay id de evento\n",
    "        td[index] = float('Inf') #no hay tiempo de salida\n",
    "    else:\n",
    "        Y = exponencial(lde,t)\n",
    "        #td = t + Y\n",
    "        Inf[index] = lastID+1\n",
    "        td[index] = t + Y\n",
    "        lastID = lastID+1\n",
    "    return t,Na,Nd,n,ta,td,A,D,Inf,C,Tp,ldpp,lde,lastID,T"
   ]
  },
  {
   "cell_type": "code",
   "execution_count": 151,
   "metadata": {},
   "outputs": [],
   "source": [
    "def caso3(t,Na,Nd,n,ta,td,A,D,Inf,C,Tp,ldpp,lde,lastID,T):\n",
    "    t = min(td)\n",
    "    index = td.index(min(td)) #obtengo el servidor que lo está ejecutando\n",
    "    n-=1\n",
    "    Nd+=1\n",
    "    D[Inf[index]] = t\n",
    "    \n",
    "    if(n > 0):\n",
    "        Y = exponencial(lde,t)\n",
    "        #td = t + Y\n",
    "        C[index] = C[index] + 1 #atiendo otro evento\n",
    "        Inf[index] = lastID + 1\n",
    "        td[index] = t+Y\n",
    "        lastID = lastID+1\n",
    "    #else:\n",
    "        #no hay eventos para el servidor\n",
    "        #Tp[index] = max(t-T,0)\n",
    "        #Inf[index] = -1\n",
    "        #td[index] = float('Inf')\n",
    "    return t,Na,Nd,n,ta,td,A,D,Inf,C,Tp,ldpp,lde,lastID,T"
   ]
  },
  {
   "cell_type": "code",
   "execution_count": 152,
   "metadata": {},
   "outputs": [],
   "source": [
    "def caso4(t,Na,Nd,n,ta,td,A,D,Inf,C,Tp,ldpp,lde,lastID,T):\n",
    "    t_old = t\n",
    "    t = min(td)\n",
    "    if(t != float('Inf')):\n",
    "        index = td.index(min(td))\n",
    "        Nd += 1\n",
    "        D[Inf[index]] = t\n",
    "    \n",
    "        #no hay eventos en el servidor\n",
    "        Tp[index] = max(t_old - T,0)\n",
    "        Inf[index] = -1\n",
    "        td[index] = float('Inf')\n",
    "    else:\n",
    "        B = 1\n",
    "    return t,Na,Nd,n,ta,td,A,D,Inf,C,Tp,ldpp,lde,lastID,B,T"
   ]
  },
  {
   "cell_type": "code",
   "execution_count": 153,
   "metadata": {},
   "outputs": [],
   "source": [
    "def selector(t,Na,Nd,n,ta,td,A,D,Inf,C,Tp,ldpp,lde,lastID,T):\n",
    "    B = 0\n",
    "    if(ta < min(td) and ta <= T):\n",
    "        #evento es llegada y sistema con tiempo\n",
    "        #caso 1\n",
    "        t,Na,Nd,n,ta,td,A,D,Inf,C,Tp,ldpp,lde,lastID,T = caso1(t,Na,Nd,n,ta,td,A,D,Inf,C,Tp,ldpp,lde,lastID,T)\n",
    "    elif(min(td)<ta and min(td) <= T):\n",
    "        #evento es salida y el sistema con tiempo\n",
    "        #caso 2\n",
    "        t,Na,Nd,n,ta,td,A,D,Inf,C,Tp,ldpp,lde,lastID,T = caso2(t,Na,Nd,n,ta,td,A,D,Inf,C,Tp,ldpp,lde,lastID,T)\n",
    "    elif(min(ta,min(td)) > T and n > 0):\n",
    "        #proximo evento luego de cierre y hay solicitudes\n",
    "        #caso 3\n",
    "        t,Na,Nd,n,ta,td,A,D,Inf,C,Tp,ldpp,lde,lastID,T = caso3(t,Na,Nd,n,ta,td,A,D,Inf,C,Tp,ldpp,lde,lastID,T)\n",
    "    else:\n",
    "        #proximo evento luego de cierre y no hay solicitudes\n",
    "        #caso 4\n",
    "        t,Na,Nd,n,ta,td,A,D,Inf,C,Tp,ldpp,lde,lastID,B,T = caso4(t,Na,Nd,n,ta,td,A,D,Inf,C,Tp,ldpp,lde,lastID,T)\n",
    "    return t,Na,Nd,n,ta,td,A,D,Inf,C,Tp,ldpp,lde,lastID,B,T"
   ]
  },
  {
   "cell_type": "code",
   "execution_count": 154,
   "metadata": {},
   "outputs": [],
   "source": [
    "def Sistema(T1, ldpp1, lde1, servidores):\n",
    "    #Sistema\n",
    "    #parametros para simulacion\n",
    "    T = T1\n",
    "    lde = lde1\n",
    "    ldpp = ldpp1\n",
    "\n",
    "    #parametros del sistema\n",
    "    t = 0 #tiempo actual\n",
    "    Na = 0 #eventos llegados\n",
    "    Nd = 0 #eventos atendidos\n",
    "    n = 0 #eventos actuales\n",
    "    ta = poisson(ldpp, t) #tiempo llegada siguiente\n",
    "    td = [] #tiempo de salida del evento atendido por el servidor i (cada servidor)\n",
    "    Tp = [] #tiempo extra de cada servidor\n",
    "    A = [] #tiempo de llegada del cliente i\n",
    "    D = [] #tiempo de salida del cliente i\n",
    "    Inf = [] #ID del evento atendido por el servidor i\n",
    "    C = [] #cuantos eventos ha atendido cada servidor\n",
    "    \n",
    "    B = 0\n",
    "    lastID = -1\n",
    "    \n",
    "    for i in range(servidores):\n",
    "        td.append(float('Inf'))\n",
    "        Tp.append(0)\n",
    "        A.append(0)\n",
    "        D.append(float('Inf'))\n",
    "        Inf.append(-1)\n",
    "        C.append(0)\n",
    "    \n",
    "    while(t<T and B == 0):\n",
    "        t,Na,Nd,n,ta,td,A,D,Inf,C,Tp,ldpp,lde,lastID,B,T = selector(t,Na,Nd,n,ta,td,A,D,Inf,C,Tp,ldpp,lde,lastID,T) \n",
    "    print(\"Solicitudes ingresadas\",Na)\n",
    "    print(\"Solicitudes egresadas\", Nd)\n",
    "\n",
    "\n"
   ]
  },
  {
   "cell_type": "code",
   "execution_count": 155,
   "metadata": {},
   "outputs": [
    {
     "name": "stdout",
     "output_type": "stream",
     "text": [
      "index:  0\n",
      "Inf:  0\n",
      "D:  [inf, inf, inf, inf, inf, inf]\n",
      "index:  0\n",
      "Inf:  1\n",
      "D:  [0.013463506076579694, inf, inf, inf, inf, inf, inf]\n",
      "index:  0\n",
      "Inf:  2\n",
      "D:  [0.013463506076579694, 0.04619601454173806, inf, inf, inf, inf, inf, inf]\n",
      "index:  0\n",
      "Inf:  3\n",
      "D:  [0.013463506076579694, 0.04619601454173806, 0.08437992522693989, inf, inf, inf, inf, inf, inf, inf]\n",
      "index:  0\n",
      "Inf:  5\n",
      "D:  [0.013463506076579694, 0.04619601454173806, 0.08437992522693989, 0.09133202316436437, inf, inf, inf, inf, inf, inf]\n",
      "index:  1\n",
      "Inf:  4\n",
      "D:  [0.013463506076579694, 0.04619601454173806, 0.08437992522693989, 0.09133202316436437, inf, 0.0956216059605222, inf, inf, inf, inf]\n",
      "index:  1\n",
      "Inf:  6\n",
      "D:  [0.013463506076579694, 0.04619601454173806, 0.08437992522693989, 0.09133202316436437, 0.10366786366063903, 0.0956216059605222, inf, inf, inf, inf]\n",
      "index:  1\n",
      "Inf:  7\n",
      "D:  [0.013463506076579694, 0.04619601454173806, 0.08437992522693989, 0.09133202316436437, 0.10366786366063903, 0.0956216059605222, 0.10871140782445533, inf, inf, inf]\n",
      "index:  1\n",
      "Inf:  8\n",
      "D:  [0.013463506076579694, 0.04619601454173806, 0.08437992522693989, 0.09133202316436437, 0.10366786366063903, 0.0956216059605222, 0.10871140782445533, 0.11228311705552775, inf, inf]\n",
      "index:  1\n",
      "Inf:  9\n",
      "D:  [0.013463506076579694, 0.04619601454173806, 0.08437992522693989, 0.09133202316436437, 0.10366786366063903, 0.0956216059605222, 0.10871140782445533, 0.11228311705552775, 0.11250940092988368, inf, inf]\n",
      "index:  0\n",
      "Inf:  5\n",
      "D:  [0.013463506076579694, 0.04619601454173806, 0.08437992522693989, 0.09133202316436437, 0.10366786366063903, 0.0956216059605222, 0.10871140782445533, 0.11228311705552775, 0.11250940092988368, 0.12191578770282878, inf]\n",
      "index:  1\n",
      "Inf:  11\n",
      "D:  [0.013463506076579694, 0.04619601454173806, 0.08437992522693989, 0.09133202316436437, 0.10366786366063903, 0.1255203363495397, 0.10871140782445533, 0.11228311705552775, 0.11250940092988368, 0.12191578770282878, inf, inf]\n",
      "index:  1\n",
      "Inf:  14\n",
      "D:  [0.013463506076579694, 0.04619601454173806, 0.08437992522693989, 0.09133202316436437, 0.10366786366063903, 0.1255203363495397, 0.10871140782445533, 0.11228311705552775, 0.11250940092988368, 0.12191578770282878, inf, 0.13411543330706574]\n"
     ]
    },
    {
     "ename": "IndexError",
     "evalue": "list assignment index out of range",
     "output_type": "error",
     "traceback": [
      "\u001b[1;31m---------------------------------------------------------------------------\u001b[0m",
      "\u001b[1;31mIndexError\u001b[0m                                Traceback (most recent call last)",
      "\u001b[1;32m<ipython-input-155-ad41fc3273d8>\u001b[0m in \u001b[0;36m<module>\u001b[1;34m\u001b[0m\n\u001b[1;32m----> 1\u001b[1;33m \u001b[0mSistema\u001b[0m\u001b[1;33m(\u001b[0m\u001b[1;36m1\u001b[0m\u001b[1;33m,\u001b[0m\u001b[1;36m2400\u001b[0m\u001b[1;33m/\u001b[0m\u001b[1;36m60\u001b[0m\u001b[1;33m,\u001b[0m\u001b[1;36m100\u001b[0m\u001b[1;33m,\u001b[0m\u001b[1;36m5\u001b[0m\u001b[1;33m)\u001b[0m\u001b[1;33m\u001b[0m\u001b[1;33m\u001b[0m\u001b[0m\n\u001b[0m",
      "\u001b[1;32m<ipython-input-154-4d9027c09907>\u001b[0m in \u001b[0;36mSistema\u001b[1;34m(T1, ldpp1, lde1, servidores)\u001b[0m\n\u001b[0;32m     31\u001b[0m \u001b[1;33m\u001b[0m\u001b[0m\n\u001b[0;32m     32\u001b[0m     \u001b[1;32mwhile\u001b[0m\u001b[1;33m(\u001b[0m\u001b[0mt\u001b[0m\u001b[1;33m<\u001b[0m\u001b[0mT\u001b[0m \u001b[1;32mand\u001b[0m \u001b[0mB\u001b[0m \u001b[1;33m==\u001b[0m \u001b[1;36m0\u001b[0m\u001b[1;33m)\u001b[0m\u001b[1;33m:\u001b[0m\u001b[1;33m\u001b[0m\u001b[1;33m\u001b[0m\u001b[0m\n\u001b[1;32m---> 33\u001b[1;33m         \u001b[0mt\u001b[0m\u001b[1;33m,\u001b[0m\u001b[0mNa\u001b[0m\u001b[1;33m,\u001b[0m\u001b[0mNd\u001b[0m\u001b[1;33m,\u001b[0m\u001b[0mn\u001b[0m\u001b[1;33m,\u001b[0m\u001b[0mta\u001b[0m\u001b[1;33m,\u001b[0m\u001b[0mtd\u001b[0m\u001b[1;33m,\u001b[0m\u001b[0mA\u001b[0m\u001b[1;33m,\u001b[0m\u001b[0mD\u001b[0m\u001b[1;33m,\u001b[0m\u001b[0mInf\u001b[0m\u001b[1;33m,\u001b[0m\u001b[0mC\u001b[0m\u001b[1;33m,\u001b[0m\u001b[0mTp\u001b[0m\u001b[1;33m,\u001b[0m\u001b[0mldpp\u001b[0m\u001b[1;33m,\u001b[0m\u001b[0mlde\u001b[0m\u001b[1;33m,\u001b[0m\u001b[0mlastID\u001b[0m\u001b[1;33m,\u001b[0m\u001b[0mB\u001b[0m\u001b[1;33m,\u001b[0m\u001b[0mT\u001b[0m \u001b[1;33m=\u001b[0m \u001b[0mselector\u001b[0m\u001b[1;33m(\u001b[0m\u001b[0mt\u001b[0m\u001b[1;33m,\u001b[0m\u001b[0mNa\u001b[0m\u001b[1;33m,\u001b[0m\u001b[0mNd\u001b[0m\u001b[1;33m,\u001b[0m\u001b[0mn\u001b[0m\u001b[1;33m,\u001b[0m\u001b[0mta\u001b[0m\u001b[1;33m,\u001b[0m\u001b[0mtd\u001b[0m\u001b[1;33m,\u001b[0m\u001b[0mA\u001b[0m\u001b[1;33m,\u001b[0m\u001b[0mD\u001b[0m\u001b[1;33m,\u001b[0m\u001b[0mInf\u001b[0m\u001b[1;33m,\u001b[0m\u001b[0mC\u001b[0m\u001b[1;33m,\u001b[0m\u001b[0mTp\u001b[0m\u001b[1;33m,\u001b[0m\u001b[0mldpp\u001b[0m\u001b[1;33m,\u001b[0m\u001b[0mlde\u001b[0m\u001b[1;33m,\u001b[0m\u001b[0mlastID\u001b[0m\u001b[1;33m,\u001b[0m\u001b[0mT\u001b[0m\u001b[1;33m)\u001b[0m\u001b[1;33m\u001b[0m\u001b[1;33m\u001b[0m\u001b[0m\n\u001b[0m\u001b[0;32m     34\u001b[0m     \u001b[0mprint\u001b[0m\u001b[1;33m(\u001b[0m\u001b[1;34m\"Solicitudes ingresadas\"\u001b[0m\u001b[1;33m,\u001b[0m\u001b[0mNa\u001b[0m\u001b[1;33m)\u001b[0m\u001b[1;33m\u001b[0m\u001b[1;33m\u001b[0m\u001b[0m\n\u001b[0;32m     35\u001b[0m     \u001b[0mprint\u001b[0m\u001b[1;33m(\u001b[0m\u001b[1;34m\"Solicitudes egresadas\"\u001b[0m\u001b[1;33m,\u001b[0m \u001b[0mNd\u001b[0m\u001b[1;33m)\u001b[0m\u001b[1;33m\u001b[0m\u001b[1;33m\u001b[0m\u001b[0m\n",
      "\u001b[1;32m<ipython-input-153-7f8587c68dd7>\u001b[0m in \u001b[0;36mselector\u001b[1;34m(t, Na, Nd, n, ta, td, A, D, Inf, C, Tp, ldpp, lde, lastID, T)\u001b[0m\n\u001b[0;32m      8\u001b[0m         \u001b[1;31m#evento es salida y el sistema con tiempo\u001b[0m\u001b[1;33m\u001b[0m\u001b[1;33m\u001b[0m\u001b[1;33m\u001b[0m\u001b[0m\n\u001b[0;32m      9\u001b[0m         \u001b[1;31m#caso 2\u001b[0m\u001b[1;33m\u001b[0m\u001b[1;33m\u001b[0m\u001b[1;33m\u001b[0m\u001b[0m\n\u001b[1;32m---> 10\u001b[1;33m         \u001b[0mt\u001b[0m\u001b[1;33m,\u001b[0m\u001b[0mNa\u001b[0m\u001b[1;33m,\u001b[0m\u001b[0mNd\u001b[0m\u001b[1;33m,\u001b[0m\u001b[0mn\u001b[0m\u001b[1;33m,\u001b[0m\u001b[0mta\u001b[0m\u001b[1;33m,\u001b[0m\u001b[0mtd\u001b[0m\u001b[1;33m,\u001b[0m\u001b[0mA\u001b[0m\u001b[1;33m,\u001b[0m\u001b[0mD\u001b[0m\u001b[1;33m,\u001b[0m\u001b[0mInf\u001b[0m\u001b[1;33m,\u001b[0m\u001b[0mC\u001b[0m\u001b[1;33m,\u001b[0m\u001b[0mTp\u001b[0m\u001b[1;33m,\u001b[0m\u001b[0mldpp\u001b[0m\u001b[1;33m,\u001b[0m\u001b[0mlde\u001b[0m\u001b[1;33m,\u001b[0m\u001b[0mlastID\u001b[0m\u001b[1;33m,\u001b[0m\u001b[0mT\u001b[0m \u001b[1;33m=\u001b[0m \u001b[0mcaso2\u001b[0m\u001b[1;33m(\u001b[0m\u001b[0mt\u001b[0m\u001b[1;33m,\u001b[0m\u001b[0mNa\u001b[0m\u001b[1;33m,\u001b[0m\u001b[0mNd\u001b[0m\u001b[1;33m,\u001b[0m\u001b[0mn\u001b[0m\u001b[1;33m,\u001b[0m\u001b[0mta\u001b[0m\u001b[1;33m,\u001b[0m\u001b[0mtd\u001b[0m\u001b[1;33m,\u001b[0m\u001b[0mA\u001b[0m\u001b[1;33m,\u001b[0m\u001b[0mD\u001b[0m\u001b[1;33m,\u001b[0m\u001b[0mInf\u001b[0m\u001b[1;33m,\u001b[0m\u001b[0mC\u001b[0m\u001b[1;33m,\u001b[0m\u001b[0mTp\u001b[0m\u001b[1;33m,\u001b[0m\u001b[0mldpp\u001b[0m\u001b[1;33m,\u001b[0m\u001b[0mlde\u001b[0m\u001b[1;33m,\u001b[0m\u001b[0mlastID\u001b[0m\u001b[1;33m,\u001b[0m\u001b[0mT\u001b[0m\u001b[1;33m)\u001b[0m\u001b[1;33m\u001b[0m\u001b[1;33m\u001b[0m\u001b[0m\n\u001b[0m\u001b[0;32m     11\u001b[0m     \u001b[1;32melif\u001b[0m\u001b[1;33m(\u001b[0m\u001b[0mmin\u001b[0m\u001b[1;33m(\u001b[0m\u001b[0mta\u001b[0m\u001b[1;33m,\u001b[0m\u001b[0mmin\u001b[0m\u001b[1;33m(\u001b[0m\u001b[0mtd\u001b[0m\u001b[1;33m)\u001b[0m\u001b[1;33m)\u001b[0m \u001b[1;33m>\u001b[0m \u001b[0mT\u001b[0m \u001b[1;32mand\u001b[0m \u001b[0mn\u001b[0m \u001b[1;33m>\u001b[0m \u001b[1;36m0\u001b[0m\u001b[1;33m)\u001b[0m\u001b[1;33m:\u001b[0m\u001b[1;33m\u001b[0m\u001b[1;33m\u001b[0m\u001b[0m\n\u001b[0;32m     12\u001b[0m         \u001b[1;31m#proximo evento luego de cierre y hay solicitudes\u001b[0m\u001b[1;33m\u001b[0m\u001b[1;33m\u001b[0m\u001b[1;33m\u001b[0m\u001b[0m\n",
      "\u001b[1;32m<ipython-input-150-910cd528558c>\u001b[0m in \u001b[0;36mcaso2\u001b[1;34m(t, Na, Nd, n, ta, td, A, D, Inf, C, Tp, ldpp, lde, lastID, T)\u001b[0m\n\u001b[0;32m      8\u001b[0m     \u001b[0mprint\u001b[0m\u001b[1;33m(\u001b[0m\u001b[1;34m\"Inf: \"\u001b[0m\u001b[1;33m,\u001b[0m\u001b[0mInf\u001b[0m\u001b[1;33m[\u001b[0m\u001b[0mindex\u001b[0m\u001b[1;33m]\u001b[0m\u001b[1;33m)\u001b[0m\u001b[1;33m\u001b[0m\u001b[1;33m\u001b[0m\u001b[0m\n\u001b[0;32m      9\u001b[0m     \u001b[0mprint\u001b[0m\u001b[1;33m(\u001b[0m\u001b[1;34m\"D: \"\u001b[0m\u001b[1;33m,\u001b[0m \u001b[0mD\u001b[0m\u001b[1;33m)\u001b[0m\u001b[1;33m\u001b[0m\u001b[1;33m\u001b[0m\u001b[0m\n\u001b[1;32m---> 10\u001b[1;33m     \u001b[0mD\u001b[0m\u001b[1;33m[\u001b[0m\u001b[0mInf\u001b[0m\u001b[1;33m[\u001b[0m\u001b[0mindex\u001b[0m\u001b[1;33m]\u001b[0m\u001b[1;33m]\u001b[0m \u001b[1;33m=\u001b[0m \u001b[0mt\u001b[0m\u001b[1;33m\u001b[0m\u001b[1;33m\u001b[0m\u001b[0m\n\u001b[0m\u001b[0;32m     11\u001b[0m     \u001b[0mC\u001b[0m\u001b[1;33m[\u001b[0m\u001b[0mindex\u001b[0m\u001b[1;33m]\u001b[0m \u001b[1;33m=\u001b[0m \u001b[0mC\u001b[0m\u001b[1;33m[\u001b[0m\u001b[0mindex\u001b[0m\u001b[1;33m]\u001b[0m\u001b[1;33m+\u001b[0m\u001b[1;36m1\u001b[0m \u001b[1;31m#atendio otro evento\u001b[0m\u001b[1;33m\u001b[0m\u001b[1;33m\u001b[0m\u001b[0m\n\u001b[0;32m     12\u001b[0m \u001b[1;33m\u001b[0m\u001b[0m\n",
      "\u001b[1;31mIndexError\u001b[0m: list assignment index out of range"
     ]
    }
   ],
   "source": [
    "Sistema(1,2400/60,100,5)"
   ]
  },
  {
   "cell_type": "code",
   "execution_count": null,
   "metadata": {},
   "outputs": [],
   "source": []
  }
 ],
 "metadata": {
  "kernelspec": {
   "display_name": "myenv",
   "language": "python",
   "name": "myenv"
  },
  "language_info": {
   "codemirror_mode": {
    "name": "ipython",
    "version": 3
   },
   "file_extension": ".py",
   "mimetype": "text/x-python",
   "name": "python",
   "nbconvert_exporter": "python",
   "pygments_lexer": "ipython3",
   "version": "3.7.2"
  }
 },
 "nbformat": 4,
 "nbformat_minor": 2
}
