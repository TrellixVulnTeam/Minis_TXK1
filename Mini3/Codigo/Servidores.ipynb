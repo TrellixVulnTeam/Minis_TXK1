{
 "cells": [
  {
   "cell_type": "code",
   "execution_count": null,
   "metadata": {},
   "outputs": [],
   "source": [
    "import math\n",
    "import random"
   ]
  },
  {
   "cell_type": "markdown",
   "metadata": {},
   "source": [
    "<b>Variable aleatoria exponencial</b>\n",
    "Se utiliza para calcular el tiempo de cada solicitud dentro del servidor."
   ]
  },
  {
   "cell_type": "code",
   "execution_count": null,
   "metadata": {
    "scrolled": true
   },
   "outputs": [],
   "source": [
    "def exponencial(lde,t):\n",
    "    return -((1/lde)*math.log(random.random()))"
   ]
  },
  {
   "cell_type": "markdown",
   "metadata": {},
   "source": [
    "<b>Variable de proceso de Poisson</b>\n",
    "Se utiliza para generar los tiempos de ocurrencia, con ella nos movemos en el tiempo dentro de la simulación."
   ]
  },
  {
   "cell_type": "code",
   "execution_count": null,
   "metadata": {
    "scrolled": true
   },
   "outputs": [],
   "source": [
    "def poisson(ldpp,t):\n",
    "    return t-((1/ldpp)*math.log(random.random()))"
   ]
  },
  {
   "cell_type": "markdown",
   "metadata": {},
   "source": [
    "Se optó por utilizar programación orientada a objetos. A continuación se describen las clases utilizadas.\n",
    "\n",
    "<b>Task</b><br>\n",
    "<i>    Atributos:</i>\n",
    "<ul>\n",
    "  <li>       t_llegada (float): Tiempo en el que la solicitud llega al sistema (ta).</li>\n",
    "  <li>       t_atendido (float): Tiempo en que la solicitud es atendida por el servidor.</li>\n",
    "  <li>       t_salida (float): Tiempo en que la solicitud sale del sistema.</li>\n",
    "</ul>\n",
    "<i>    Métodos:</i>\n",
    "<ul>\n",
    "  <li>       get_tiempoT: Retorna el tiempo total de la solicitud dentro del sistema.</li>\n",
    "  <li>       get_tiempoEnServ: Retorna el tiempo que le tomó al servidor atender la solicitud.</li>\n",
    "</ul>"
   ]
  },
  {
   "cell_type": "code",
   "execution_count": null,
   "metadata": {
    "scrolled": true
   },
   "outputs": [],
   "source": [
    "class task:\n",
    "    def __init__(self, ta):\n",
    "        self.t_llegada = ta\n",
    "        self.t_atendido = float('Inf')\n",
    "        self.t_salida = float('Inf')\n",
    "    \n",
    "    #devuelve el tiempo total del task\n",
    "    def get_tiempoT(self):\n",
    "        return (self.t_salida - self.t_llegada)\n",
    "    \n",
    "    #devuelve el tiempo en servidor\n",
    "    def get_tiempoEnServ(self):\n",
    "        return (self.t_salida - self.t_atendido)"
   ]
  },
  {
   "cell_type": "markdown",
   "metadata": {},
   "source": [
    "<b>Server</b><br>\n",
    "<i>    Atributos:</i>\n",
    "<ul>\n",
    "  <li>       bussy (bool): Indica el estado del servidor (ocupado/desocupado)</li>\n",
    "  <li>       task_running (task): Solicitud que está siendo atendida.</li>\n",
    "  <li>       tasks (int array): Lista de las solicitudes procesadas por el servidor.</li>\n",
    "  <li>       Tp (float): Tiempo extra en que estuvo ocupado el servidor.</li>\n",
    "</ul>\n",
    "<i>    Métodos:</i>\n",
    "<ul>\n",
    "  <li>       assign_task: Se le asigna una tarea a procesar al servidor.</li>\n",
    "  <li>       drop_task: Se agrega la tarea atendida a la lista tasks y se libera el servidor.</li>\n",
    "</ul>"
   ]
  },
  {
   "cell_type": "code",
   "execution_count": null,
   "metadata": {
    "scrolled": true
   },
   "outputs": [],
   "source": [
    "class server:\n",
    "    def __init__(self):\n",
    "        self.bussy = False\n",
    "        self.task_running = False\n",
    "        self.tasks = [] #processed tasks\n",
    "        self.Tp = 0\n",
    "    \n",
    "    def assign_task(self, taske):\n",
    "        self.bussy = True\n",
    "        self.task_running = taske\n",
    "        \n",
    "    def drop_task(self):\n",
    "        self.bussy = False\n",
    "        self.tasks.append(self.task_running)\n",
    "        self.task_running = False\n",
    "        "
   ]
  },
  {
   "cell_type": "markdown",
   "metadata": {},
   "source": [
    "<b>SystemSim</b><br>\n",
    "<i>    Atributos:</i>\n",
    "<ul>\n",
    "  <li>       serv_working (bool): Indica el estado del sistema (en funcionamiento o no).</li>\n",
    "  <li>       T (float): Tiempo de simulación.</li>\n",
    "  <li>       Tp_general (float): Tiempo extra en que funcionó el sistema para atender a todas las solicitudes ingresadas.</li>\n",
    "  <li>       ldp (float): Lambda del proceso de Poisson.</li>\n",
    "  <li>       lde (float): Lambda de la variable exponencial.</li>\n",
    "  <li>       t (float): Tiempo actual.</li>\n",
    "  <li>       Na (int): Solicitudes ingresadas al tiempo t.</li>\n",
    "  <li>       Nd (int): Solicitudes procesadas al tiempo t.</li>  \n",
    "  <li>       ta (float): Tiempo de llegada de la próxima solicitud.</li>\n",
    "  <li>       cola_eventos (task array): Almacena las solicitudes en cola.</li>  \n",
    "  <li>       servidores (server array): Lista de servidores del sistema.</li>  \n",
    "</ul>\n",
    "<i>    Métodos:</i>\n",
    "<ul>\n",
    "  <li>       get_tiempoDisp: Indica si aún queda tiempo de simulación.</li>\n",
    "  <li>       add_task: Se agrega una nueva solicitud a la cola y si existe algún servidor desocupado se asigna a este para ser procesada.</li>\n",
    "  <li>       assign_task: Asigna la solicitud a algún servidor desocupado, la elimina de la cola de eventos y le asigna un tiempo de salida.</li>\n",
    "  <li>       get_free: Indica qué servidor se encuentra libre.</li>\n",
    "  <li>       get_td: Retorna el tiempo de salida más pequeño.</li>\n",
    "  <li>       debug: Imprime variables necesarias para debugeo.</li>\n",
    "</ul>"
   ]
  },
  {
   "cell_type": "code",
   "execution_count": null,
   "metadata": {
    "scrolled": true
   },
   "outputs": [],
   "source": [
    "class SystemSim:\n",
    "    def __init__(self, T, ldp, lde, servidores):\n",
    "        #flags\n",
    "        self.serv_working = True #cambia hasta el caso 4\n",
    "        #parametros cambian\n",
    "        self.T = T\n",
    "        self.Tp_general = 0\n",
    "        self.ldp = ldp\n",
    "        self.lde = lde\n",
    "        \n",
    "        #parametros constantes\n",
    "        self.t = 0\n",
    "        self.Na = 0\n",
    "        self.Nd = 0\n",
    "        self.ta = poisson(ldp,self.t)\n",
    "        \n",
    "        #listas\n",
    "        self.cola_eventos = []\n",
    "        self.servidores = []\n",
    "        \n",
    "        #inicializo objetos servidor\n",
    "        for i in range(servidores):\n",
    "            self.servidores.append(server())\n",
    "            \n",
    "    #Verifica si aun hay tiempo de ejecucion\n",
    "    def get_tiempoDisp(self):\n",
    "        if(self.t < self.T and self.serv_working):\n",
    "            return True\n",
    "        else:\n",
    "            return False\n",
    "    \n",
    "    #agrega un nuevo objeto a la cola\n",
    "    def add_task(self,ta):\n",
    "        servidor_pos = self.get_free()\n",
    "        self.cola_eventos.append(task(ta)) #### se mete task a la cola\n",
    "        #existe un servidor desocupado\n",
    "        if(servidor_pos > -1):\n",
    "            self.assign_task(ta,servidor_pos)\n",
    "    \n",
    "    def assign_task(self,tx,index):\n",
    "        self.servidores[index].assign_task(self.cola_eventos[0]) #se agrega al servidor seleccionado\n",
    "        self.servidores[index].task_running.t_atendido = tx #se asigna el tiempo de atendido\n",
    "        self.servidores[index].task_running.t_salida = self.t + exponencial(self.lde,self.t) #se asigna tiempo de salida\n",
    "        self.cola_eventos.pop(0) #task atendiendo\n",
    "        \n",
    "    #identifica que servidor esta libre\n",
    "    def get_free(self):\n",
    "        #devuelve -1 si no hay libres\n",
    "        for i in range(len(self.servidores)):\n",
    "            if(not self.servidores[i].bussy):\n",
    "                return i\n",
    "        return -1\n",
    "    \n",
    "    #devuelve el tiempo de salida mas pequeño\n",
    "    def get_td(self):\n",
    "        td_min = float('Inf')\n",
    "        td_servidor = -1\n",
    "        for i in range(len(self.servidores)):\n",
    "            if((self.servidores[i].task_running != False) and (self.servidores[i].task_running.t_salida < td_min)):\n",
    "                td_min = self.servidores[i].task_running.t_salida\n",
    "                td_servidor = i\n",
    "        return (td_min,td_servidor)\n",
    "        \n",
    "    #debug block\n",
    "    def debug(self):\n",
    "        print(\"t: \", self.t, \"\\tta: \", self.ta, \"\\ttd: \", self.get_td()[0])\n",
    "        print(\"Servidores: \",end='')\n",
    "        for i in self.servidores:\n",
    "            print(\"\\t\",end='')\n",
    "            print(i.bussy,end='')\n",
    "        print(\"\\ttasks_cola: \", end='')\n",
    "        print(len(self.cola_eventos),end='')\n",
    "        print(\"\")\n",
    "        "
   ]
  },
  {
   "cell_type": "markdown",
   "metadata": {},
   "source": [
    "Los casos para el experimento de un solo servidor que encola fueron ligeramente modificados para la implementación de múltiples servidores.\n",
    "\n",
    "<b>Caso 1: </b>\n",
    "El siguiente evento es una llegada de una solicitud al sistema y aún no es la hora de cierre. \n",
    "\n",
    "<b>Caso 2: </b>\n",
    "El siguiente evento es una salida de una solicitud del sistema. Si ocurrre luego de la hora de cierre se suma tiempo extra al servidor. Esta modificación hace prescindible el caso 3. \n",
    "\n",
    "<b>Caso 4: </b>\n",
    "El próximo evento ocurre luego de la hora de cierre y ya no hay solicitudes en cola. "
   ]
  },
  {
   "cell_type": "code",
   "execution_count": null,
   "metadata": {},
   "outputs": [],
   "source": [
    "def caso1(world):\n",
    "    #print(\"CASO 1\",end='')\n",
    "    if(world.ta <= world.T):\n",
    "        #world.debug()\n",
    "        world.t = world.ta\n",
    "        world.Na += 1\n",
    "        world.ta = poisson(world.ldp,world.t)\n",
    "        #print(\"\\tNew_ta: \",world.ta)\n",
    "        world.add_task(world.t)"
   ]
  },
  {
   "cell_type": "code",
   "execution_count": null,
   "metadata": {},
   "outputs": [],
   "source": [
    "def caso2(world):\n",
    "    #print(\"CASO 2\")\n",
    "    #world.debug()\n",
    "    world.t = world.get_td()[0]\n",
    "    servidor = world.get_td()[1] #es un indice\n",
    "    world.Nd += 1\n",
    "    #world.servidores[servidor].bussy = False\n",
    "    world.servidores[servidor].drop_task()\n",
    "    \n",
    "    if(not world.get_tiempoDisp()):\n",
    "        world.servidores[servidor].Tp += max(world.t - world.T, 0)\n",
    "        \n",
    "    if(len(world.cola_eventos)>0):\n",
    "        world.assign_task(world.t,servidor)\n",
    "        \n",
    "        "
   ]
  },
  {
   "cell_type": "code",
   "execution_count": null,
   "metadata": {},
   "outputs": [],
   "source": [
    "def caso4(world):\n",
    "    #print(\"CASO 4\")\n",
    "    world.serv_working = False"
   ]
  },
  {
   "cell_type": "code",
   "execution_count": null,
   "metadata": {},
   "outputs": [],
   "source": [
    "def selector(world):\n",
    "    if((world.ta < world.get_td()[0]) and (world.ta < world.T)):\n",
    "        # El siguiente evento es una llegada de una solicitud al \n",
    "        # sistema y aún no es la hora de cierre. \n",
    "        caso1(world)\n",
    "    elif(world.get_td()[0] < world.ta):\n",
    "        # El siguiente evento es una salida de una solicitud del\n",
    "        # sistema\n",
    "        caso2(world)\n",
    "    else:\n",
    "        # El siguiente evento ocurre luego de la hora de cierre y \n",
    "        # ya no hay solicitudes en cola\n",
    "        caso4(world)"
   ]
  },
  {
   "cell_type": "markdown",
   "metadata": {},
   "source": [
    "Al ingresar los parámetros del sistema es posible simular uno o múltiples servidores. Posteriormente se obtienen las estadísticas de funcionamiento. "
   ]
  },
  {
   "cell_type": "code",
   "execution_count": null,
   "metadata": {},
   "outputs": [],
   "source": [
    "def simulador(T,ldp,lde,servidores):\n",
    "    #se crea el sistema con todos los parametros\n",
    "    world = SystemSim(T,ldp,lde,servidores)\n",
    "    \n",
    "    while(world.get_tiempoDisp()):\n",
    "        #print(\"\")\n",
    "        #world.debug()\n",
    "        selector(world)\n",
    "    return world\n",
    "    "
   ]
  },
  {
   "cell_type": "code",
   "execution_count": null,
   "metadata": {},
   "outputs": [],
   "source": [
    "def get_data(world):\n",
    "    #info del sistema\n",
    "    print(\"INFORMACIÓN DEL SISTEMA: \")\n",
    "    print(\"\\t\\tNa: \", world.Na,\"\\tNd: \", world.Nd)\n",
    "    \n",
    "    #solicitudes de cada servidor\n",
    "    print(\"\\nSOLICITUDES:\")\n",
    "    for i in range(len(world.servidores)):\n",
    "        print(\"\\t\\tServidor \",i+1,\"\\t--> \",len(world.servidores[i].tasks))\n",
    "        \n",
    "    #tiempo ocupado de cada servidor\n",
    "    tiempos_servidores = [] #lo almaceno para calcular IDDLE\n",
    "    print(\"\\nTIEMPO OCUPADOS:\")\n",
    "    for i in range(len(world.servidores)):\n",
    "        #servidor X:\n",
    "        tiempo_ocupado = 0\n",
    "        for j in world.servidores[i].tasks:\n",
    "            tiempo_ocupado += (j.t_salida - j.t_atendido)\n",
    "        tiempos_servidores.append(tiempo_ocupado)\n",
    "        print(\"\\t\\tServidor \",i+1,\": \",tiempo_ocupado)\n",
    "    \n",
    "    #tiempo IDDLE\n",
    "    print(\"\\nTIEMPO DESOCUPADOS:\")\n",
    "    for i in range(len(tiempos_servidores)):\n",
    "        print(\"\\t\\tServidor \",i+1,\": \",(world.T - tiempos_servidores[i]))\n",
    "\n",
    "    #Tiempo total de solicitudes en cola\n",
    "    print(\"\\nTIEMPO DE SOLICITUDES EN COLA:\")\n",
    "    tiempo_en_cola_total = 0\n",
    "    solicitudes_en_cola = 0\n",
    "    for i in range(len(world.servidores)):\n",
    "        #servidor X:\n",
    "        for j in world.servidores[i].tasks:\n",
    "            tiempo_en_cola = (j.t_atendido - j.t_llegada)\n",
    "            tiempo_en_cola_total += tiempo_en_cola\n",
    "            if(tiempo_en_cola > 0):\n",
    "                solicitudes_en_cola += 1\n",
    "    print(\"\\t\\tTiempo total: \", tiempo_en_cola_total)\n",
    "    print(\"\\t\\tTiempo promedio de cada solicitud: \", tiempo_en_cola_total/world.Na)\n",
    "    print(\"\\t\\tPromedio de solicitudes por segundo: \", solicitudes_en_cola/world.T)\n",
    "    \n",
    "    \n",
    "    #Promedio cuantas tasks en cola/seg\n",
    "    #contadores = []\n",
    "    #contador = 0\n",
    "    #print(\"\\nPROMEDIO DE SOLICITUDES EN COLA POR SEGUNDO:\")\n",
    "    ###Esta parte se tarda demasiado y no di como evaluarla de otra manera\n",
    "    #se analizan los datos por intervalos de 1 segundo\n",
    "    #for i in range(world.T+1):\n",
    "        #contador = 0\n",
    "        #for j in world.servidores:\n",
    "            #for k in j.tasks:\n",
    "                #if((k.t_llegada < i) and (k.t_llegada > i-1)):\n",
    "                    #está en el intervalo evaluado, verifico que esperó en cola\n",
    "                    #if((k.t_atendido - k.t_llegada)>0):\n",
    "                        #estuvo en cola un tiempo en este intervalo\n",
    "                        #contador +=1\n",
    "                #elif((k.t_llegada < i) and (k.t_llegada < i-1)):\n",
    "                    #estuvo esperando un tiempo en este intervalo\n",
    "                    #if(k.t_atendido > i-1):\n",
    "                        #contador +=1\n",
    "                    #else (no es parte del intervalo)\n",
    "        #contadores.append(contador)\n",
    "    #print(\"\\t\\tPromedio de solicitudes en cola por segundo: \", contador/world.T)\n",
    "    \n",
    "    #tiempo de salida de la última solicitud\n",
    "    print(\"\\nTIEMPO DE SALIDA DE LA ÚLTIMA SOLICITUD: \")\n",
    "    print(\"\\t\\tTiempo final: \",world.t)\n",
    "    for i in range(len(world.servidores)):\n",
    "        print(\"\\t\\tExtra Servidor \", i,\": \",world.servidores[i].Tp)"
   ]
  },
  {
   "cell_type": "markdown",
   "metadata": {},
   "source": [
    "<head><h1> SIMULACIÓN </h1></head>"
   ]
  },
  {
   "cell_type": "markdown",
   "metadata": {},
   "source": [
    "<h3>Gorilla Megacomputing</h3> \n",
    "1 servidor<br>\n",
    "lde = 100<br>\n",
    "ldp = 2400/60"
   ]
  },
  {
   "cell_type": "code",
   "execution_count": null,
   "metadata": {
    "scrolled": false
   },
   "outputs": [],
   "source": [
    "simulacion = simulador(3600,2400/60,100,1)\n",
    "print(\"---> Finished: SIMULACION 1 <---\")\n",
    "get_data(simulacion)"
   ]
  },
  {
   "cell_type": "markdown",
   "metadata": {},
   "source": [
    "<h3>Ants smart computing</h3> \n",
    "10 servidores<br>\n",
    "lde = 10<br>\n",
    "ldp = 2400/60"
   ]
  },
  {
   "cell_type": "code",
   "execution_count": null,
   "metadata": {},
   "outputs": [],
   "source": [
    "simulacion = simulador(3600,2400/60,10,10)\n",
    "print(\"---> Finished: SIMULACION 2 <---\")\n",
    "get_data(simulacion)"
   ]
  },
  {
   "cell_type": "markdown",
   "metadata": {},
   "source": [
    "<h3>Ants smart computing</h3> \n",
    "17 servidores<br>\n",
    "lde = 10<br>\n",
    "ldp = 2400/60"
   ]
  },
  {
   "cell_type": "code",
   "execution_count": null,
   "metadata": {},
   "outputs": [],
   "source": [
    "simulacion = simulador(3600,2400/60,10,17)\n",
    "print(\"---> Finished: SIMULACION 3 <---\")\n",
    "get_data(simulacion)"
   ]
  },
  {
   "cell_type": "markdown",
   "metadata": {},
   "source": [
    "<h3>Gorilla Megacomputing</h3> \n",
    "1 servidor<br>\n",
    "lde = 100<br>\n",
    "ldp = 6000/60"
   ]
  },
  {
   "cell_type": "code",
   "execution_count": null,
   "metadata": {
    "scrolled": false
   },
   "outputs": [],
   "source": [
    "simulacion = simulador(3600,6000/60,100,1)\n",
    "print(\"---> Finished: SIMULACION 4 <---\")\n",
    "get_data(simulacion)"
   ]
  },
  {
   "cell_type": "markdown",
   "metadata": {},
   "source": [
    "<h3>Ants smart computing</h3> \n",
    "10 servidores<br>\n",
    "lde = 10<br>\n",
    "ldp = 6000/60"
   ]
  },
  {
   "cell_type": "code",
   "execution_count": null,
   "metadata": {},
   "outputs": [],
   "source": [
    "simulacion = simulador(3600,6000/60,10,10)\n",
    "print(\"---> Finished: SIMULACION 5 <---\")\n",
    "get_data(simulacion)"
   ]
  },
  {
   "cell_type": "markdown",
   "metadata": {},
   "source": [
    "<h3>Ants smart computing</h3> \n",
    "28 servidores<br>\n",
    "lde = 10<br>\n",
    "ldp = 6000/60"
   ]
  },
  {
   "cell_type": "code",
   "execution_count": 335,
   "metadata": {},
   "outputs": [
    {
     "name": "stdout",
     "output_type": "stream",
     "text": [
      "---> Finished: SIMULACION 6 <---\n",
      "INFORMACIÓN DEL SISTEMA: \n",
      "\t\tNa:  360089 \tNd:  360080\n",
      "\n",
      "SOLICITUDES:\n",
      "\t\tServidor  1 \t-->  32919\n",
      "\t\tServidor  2 \t-->  32061\n",
      "\t\tServidor  3 \t-->  31447\n",
      "\t\tServidor  4 \t-->  30600\n",
      "\t\tServidor  5 \t-->  29948\n",
      "\t\tServidor  6 \t-->  28424\n",
      "\t\tServidor  7 \t-->  27179\n",
      "\t\tServidor  8 \t-->  25295\n",
      "\t\tServidor  9 \t-->  23452\n",
      "\t\tServidor  10 \t-->  21250\n",
      "\t\tServidor  11 \t-->  18473\n",
      "\t\tServidor  12 \t-->  15744\n",
      "\t\tServidor  13 \t-->  12725\n",
      "\t\tServidor  14 \t-->  9897\n",
      "\t\tServidor  15 \t-->  7370\n",
      "\t\tServidor  16 \t-->  5228\n",
      "\t\tServidor  17 \t-->  3429\n",
      "\t\tServidor  18 \t-->  2048\n",
      "\t\tServidor  19 \t-->  1227\n",
      "\t\tServidor  20 \t-->  666\n",
      "\t\tServidor  21 \t-->  349\n",
      "\t\tServidor  22 \t-->  183\n",
      "\t\tServidor  23 \t-->  92\n",
      "\t\tServidor  24 \t-->  44\n",
      "\t\tServidor  25 \t-->  15\n",
      "\t\tServidor  26 \t-->  10\n",
      "\t\tServidor  27 \t-->  4\n",
      "\t\tServidor  28 \t-->  1\n",
      "\n",
      "TIEMPO OCUPADOS:\n",
      "\t\tServidor  1 :  3268.590821683207\n",
      "\t\tServidor  2 :  3218.1993942515815\n",
      "\t\tServidor  3 :  3154.7481139634288\n",
      "\t\tServidor  4 :  3071.314580208075\n",
      "\t\tServidor  5 :  2973.587214885493\n",
      "\t\tServidor  6 :  2849.445380873078\n",
      "\t\tServidor  7 :  2709.517637541238\n",
      "\t\tServidor  8 :  2549.1534959027176\n",
      "\t\tServidor  9 :  2353.8850012192743\n",
      "\t\tServidor  10 :  2110.2604395396047\n",
      "\t\tServidor  11 :  1857.7793583479454\n",
      "\t\tServidor  12 :  1564.084590780928\n",
      "\t\tServidor  13 :  1282.6848187992903\n",
      "\t\tServidor  14 :  996.9256487810529\n",
      "\t\tServidor  15 :  744.692052500596\n",
      "\t\tServidor  16 :  519.1754738283771\n",
      "\t\tServidor  17 :  339.94831494800053\n",
      "\t\tServidor  18 :  202.8937337673269\n",
      "\t\tServidor  19 :  122.87538392930493\n",
      "\t\tServidor  20 :  64.83065008947791\n",
      "\t\tServidor  21 :  35.26141561753846\n",
      "\t\tServidor  22 :  17.84048018022824\n",
      "\t\tServidor  23 :  9.716465885226015\n",
      "\t\tServidor  24 :  3.49312531686828\n",
      "\t\tServidor  25 :  1.4599496481065728\n",
      "\t\tServidor  26 :  0.8582597137827861\n",
      "\t\tServidor  27 :  0.36670715874004145\n",
      "\t\tServidor  28 :  0.01961712341619659\n",
      "\n",
      "TIEMPO DESOCUPADOS:\n",
      "\t\tServidor  1 :  331.4091783167928\n",
      "\t\tServidor  2 :  381.80060574841855\n",
      "\t\tServidor  3 :  445.25188603657125\n",
      "\t\tServidor  4 :  528.6854197919251\n",
      "\t\tServidor  5 :  626.4127851145072\n",
      "\t\tServidor  6 :  750.5546191269218\n",
      "\t\tServidor  7 :  890.482362458762\n",
      "\t\tServidor  8 :  1050.8465040972824\n",
      "\t\tServidor  9 :  1246.1149987807257\n",
      "\t\tServidor  10 :  1489.7395604603953\n",
      "\t\tServidor  11 :  1742.2206416520546\n",
      "\t\tServidor  12 :  2035.915409219072\n",
      "\t\tServidor  13 :  2317.31518120071\n",
      "\t\tServidor  14 :  2603.074351218947\n",
      "\t\tServidor  15 :  2855.307947499404\n",
      "\t\tServidor  16 :  3080.824526171623\n",
      "\t\tServidor  17 :  3260.0516850519994\n",
      "\t\tServidor  18 :  3397.106266232673\n",
      "\t\tServidor  19 :  3477.124616070695\n",
      "\t\tServidor  20 :  3535.169349910522\n",
      "\t\tServidor  21 :  3564.7385843824613\n",
      "\t\tServidor  22 :  3582.159519819772\n",
      "\t\tServidor  23 :  3590.283534114774\n",
      "\t\tServidor  24 :  3596.5068746831316\n",
      "\t\tServidor  25 :  3598.5400503518936\n",
      "\t\tServidor  26 :  3599.141740286217\n",
      "\t\tServidor  27 :  3599.63329284126\n",
      "\t\tServidor  28 :  3599.980382876584\n",
      "\n",
      "TIEMPO DE SOLICITUDES EN COLA:\n",
      "\t\tTiempo total:  0.0\n",
      "\t\tTiempo promedio de cada solicitud:  0.0\n",
      "\t\tPromedio de solicitudes por segundo:  0.0\n",
      "\n",
      "TIEMPO DE SALIDA DE LA ÚLTIMA SOLICITUD: \n",
      "\t\tTiempo final:  3599.9939080502745\n",
      "\t\tExtra Servidor  0 :  0\n",
      "\t\tExtra Servidor  1 :  0\n",
      "\t\tExtra Servidor  2 :  0\n",
      "\t\tExtra Servidor  3 :  0\n",
      "\t\tExtra Servidor  4 :  0\n",
      "\t\tExtra Servidor  5 :  0\n",
      "\t\tExtra Servidor  6 :  0\n",
      "\t\tExtra Servidor  7 :  0\n",
      "\t\tExtra Servidor  8 :  0\n",
      "\t\tExtra Servidor  9 :  0\n",
      "\t\tExtra Servidor  10 :  0\n",
      "\t\tExtra Servidor  11 :  0\n",
      "\t\tExtra Servidor  12 :  0\n",
      "\t\tExtra Servidor  13 :  0\n",
      "\t\tExtra Servidor  14 :  0\n",
      "\t\tExtra Servidor  15 :  0\n",
      "\t\tExtra Servidor  16 :  0\n",
      "\t\tExtra Servidor  17 :  0\n",
      "\t\tExtra Servidor  18 :  0\n",
      "\t\tExtra Servidor  19 :  0\n",
      "\t\tExtra Servidor  20 :  0\n",
      "\t\tExtra Servidor  21 :  0\n",
      "\t\tExtra Servidor  22 :  0\n",
      "\t\tExtra Servidor  23 :  0\n",
      "\t\tExtra Servidor  24 :  0\n",
      "\t\tExtra Servidor  25 :  0\n",
      "\t\tExtra Servidor  26 :  0\n",
      "\t\tExtra Servidor  27 :  0\n"
     ]
    }
   ],
   "source": [
    "simulacion = simulador(3600,6000/60,10,28)\n",
    "print(\"---> Finished: SIMULACION 6 <---\")\n",
    "get_data(simulacion)"
   ]
  }
 ],
 "metadata": {
  "kernelspec": {
   "display_name": "myenv",
   "language": "python",
   "name": "myenv"
  },
  "language_info": {
   "codemirror_mode": {
    "name": "ipython",
    "version": 3
   },
   "file_extension": ".py",
   "mimetype": "text/x-python",
   "name": "python",
   "nbconvert_exporter": "python",
   "pygments_lexer": "ipython3",
   "version": "3.7.4"
  }
 },
 "nbformat": 4,
 "nbformat_minor": 2
}
