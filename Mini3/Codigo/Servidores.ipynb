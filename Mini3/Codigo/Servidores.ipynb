{
 "cells": [
  {
   "cell_type": "code",
   "execution_count": null,
   "metadata": {},
   "outputs": [],
   "source": [
    "import math\n",
    "import random"
   ]
  },
  {
   "cell_type": "markdown",
   "metadata": {},
   "source": [
    "<b>Variable aleatoria exponencial</b>\n",
    "Se utiliza para calcular el tiempo de cada solicitud dentro del servidor."
   ]
  },
  {
   "cell_type": "code",
   "execution_count": null,
   "metadata": {
    "scrolled": true
   },
   "outputs": [],
   "source": [
    "def exponencial(lde,t):\n",
    "    return -((1/lde)*math.log(random.random()))"
   ]
  },
  {
   "cell_type": "markdown",
   "metadata": {},
   "source": [
    "<b>Variable de proceso de Poisson</b>\n",
    "Se utiliza para generar los tiempos de ocurrencia, con ella nos movemos en el tiempo dentro de la simulación."
   ]
  },
  {
   "cell_type": "code",
   "execution_count": null,
   "metadata": {
    "scrolled": true
   },
   "outputs": [],
   "source": [
    "def poisson(ldpp,t):\n",
    "    return t-((1/ldpp)*math.log(random.random()))"
   ]
  },
  {
   "cell_type": "markdown",
   "metadata": {},
   "source": [
    "Se optó por utilizar programación orientada a objetos. A continuación se describen las clases utilizadas.\n",
    "\n",
    "<b>Task</b><br>\n",
    "<i>    Atributos:</i>\n",
    "<ul>\n",
    "  <li>       t_llegada (float): Tiempo en el que la solicitud llega al sistema (ta).</li>\n",
    "  <li>       t_atendido (float): Tiempo en que la solicitud es atendida por el servidor.</li>\n",
    "  <li>       t_salida (float): Tiempo en que la solicitud sale del sistema.</li>\n",
    "</ul>\n",
    "<i>    Métodos:</i>\n",
    "<ul>\n",
    "  <li>       get_tiempoT: Retorna el tiempo total de la solicitud dentro del sistema.</li>\n",
    "  <li>       get_tiempoEnServ: Retorna el tiempo que le tomó al servidor atender la solicitud.</li>\n",
    "</ul>"
   ]
  },
  {
   "cell_type": "code",
   "execution_count": null,
   "metadata": {
    "scrolled": true
   },
   "outputs": [],
   "source": [
    "class task:\n",
    "    def __init__(self, ta):\n",
    "        self.t_llegada = ta\n",
    "        self.t_atendido = float('Inf')\n",
    "        self.t_salida = float('Inf')\n",
    "    \n",
    "    #devuelve el tiempo total del task\n",
    "    def get_tiempoT(self):\n",
    "        return (self.t_salida - self.t_llegada)\n",
    "    \n",
    "    #devuelve el tiempo en servidor\n",
    "    def get_tiempoEnServ(self):\n",
    "        return (self.t_salida - self.t_atendido)"
   ]
  },
  {
   "cell_type": "markdown",
   "metadata": {},
   "source": [
    "<b>Server</b><br>\n",
    "<i>    Atributos:</i>\n",
    "<ul>\n",
    "  <li>       bussy (bool): Indica el estado del servidor (ocupado/desocupado)</li>\n",
    "  <li>       task_running (task): Solicitud que está siendo atendida.</li>\n",
    "  <li>       tasks (int array): Lista de las solicitudes procesadas por el servidor.</li>\n",
    "  <li>       Tp (float): Tiempo extra en que estuvo ocupado el servidor.</li>\n",
    "</ul>\n",
    "<i>    Métodos:</i>\n",
    "<ul>\n",
    "  <li>       assign_task: Se le asigna una tarea a procesar al servidor.</li>\n",
    "  <li>       drop_task: Se agrega la tarea atendida a la lista tasks y se libera el servidor.</li>\n",
    "</ul>"
   ]
  },
  {
   "cell_type": "code",
   "execution_count": null,
   "metadata": {
    "scrolled": true
   },
   "outputs": [],
   "source": [
    "class server:\n",
    "    def __init__(self):\n",
    "        self.bussy = False\n",
    "        self.task_running = False\n",
    "        self.tasks = [] #processed tasks\n",
    "        self.Tp = 0\n",
    "    \n",
    "    def assign_task(self, taske):\n",
    "        self.bussy = True\n",
    "        self.task_running = taske\n",
    "        \n",
    "    def drop_task(self):\n",
    "        self.bussy = False\n",
    "        self.tasks.append(self.task_running)\n",
    "        self.task_running = False\n",
    "        "
   ]
  },
  {
   "cell_type": "markdown",
   "metadata": {},
   "source": [
    "<b>SystemSim</b><br>\n",
    "<i>    Atributos:</i>\n",
    "<ul>\n",
    "  <li>       serv_working (bool): Indica el estado del sistema (en funcionamiento o no).</li>\n",
    "  <li>       T (float): Tiempo de simulación.</li>\n",
    "  <li>       Tp_general (float): Tiempo extra en que funcionó el sistema para atender a todas las solicitudes ingresadas.</li>\n",
    "  <li>       ldp (float): Lambda del proceso de Poisson.</li>\n",
    "  <li>       lde (float): Lambda de la variable exponencial.</li>\n",
    "  <li>       t (float): Tiempo actual.</li>\n",
    "  <li>       Na (int): Solicitudes ingresadas al tiempo t.</li>\n",
    "  <li>       Nd (int): Solicitudes procesadas al tiempo t.</li>  \n",
    "  <li>       ta (float): Tiempo de llegada de la próxima solicitud.</li>\n",
    "  <li>       cola_eventos (task array): Almacena las solicitudes en cola.</li>  \n",
    "  <li>       servidores (server array): Lista de servidores del sistema.</li>  \n",
    "</ul>\n",
    "<i>    Métodos:</i>\n",
    "<ul>\n",
    "  <li>       get_tiempoDisp: Indica si aún queda tiempo de simulación.</li>\n",
    "  <li>       add_task: Se agrega una nueva solicitud a la cola y si existe algún servidor desocupado se asigna a este para ser procesada.</li>\n",
    "  <li>       assign_task: Asigna la solicitud a algún servidor desocupado, la elimina de la cola de eventos y le asigna un tiempo de salida.</li>\n",
    "  <li>       get_free: Indica qué servidor se encuentra libre.</li>\n",
    "  <li>       get_td: Retorna el tiempo de salida más pequeño.</li>\n",
    "  <li>       debug: Imprime variables necesarias para debugeo.</li>\n",
    "</ul>"
   ]
  },
  {
   "cell_type": "code",
   "execution_count": null,
   "metadata": {
    "scrolled": true
   },
   "outputs": [],
   "source": [
    "class SystemSim:\n",
    "    def __init__(self, T, ldp, lde, servidores):\n",
    "        #flags\n",
    "        self.serv_working = True #cambia hasta el caso 4\n",
    "        #parametros cambian\n",
    "        self.T = T\n",
    "        self.Tp_general = 0\n",
    "        self.ldp = ldp\n",
    "        self.lde = lde\n",
    "        \n",
    "        #parametros constantes\n",
    "        self.t = 0\n",
    "        self.Na = 0\n",
    "        self.Nd = 0\n",
    "        self.ta = poisson(ldp,self.t)\n",
    "        \n",
    "        #listas\n",
    "        self.cola_eventos = []\n",
    "        self.servidores = []\n",
    "        \n",
    "        #inicializo objetos servidor\n",
    "        for i in range(servidores):\n",
    "            self.servidores.append(server())\n",
    "            \n",
    "    #Verifica si aun hay tiempo de ejecucion\n",
    "    def get_tiempoDisp(self):\n",
    "        if(self.t < self.T and self.serv_working):\n",
    "            return True\n",
    "        else:\n",
    "            return False\n",
    "    \n",
    "    #agrega un nuevo objeto a la cola\n",
    "    def add_task(self,ta):\n",
    "        servidor_pos = self.get_free()\n",
    "        self.cola_eventos.append(task(ta)) #### se mete task a la cola\n",
    "        #existe un servidor desocupado\n",
    "        if(servidor_pos > -1):\n",
    "            self.assign_task(ta,servidor_pos)\n",
    "    \n",
    "    def assign_task(self,tx,index):\n",
    "        self.servidores[index].assign_task(self.cola_eventos[0]) #se agrega al servidor seleccionado\n",
    "        self.servidores[index].task_running.t_atendido = tx #se asigna el tiempo de atendido\n",
    "        self.servidores[index].task_running.t_salida = self.t + exponencial(self.lde,self.t) #se asigna tiempo de salida\n",
    "        self.cola_eventos.pop(0) #task atendiendo\n",
    "        \n",
    "    #identifica que servidor esta libre\n",
    "    def get_free(self):\n",
    "        #devuelve -1 si no hay libres\n",
    "        for i in range(len(self.servidores)):\n",
    "            if(not self.servidores[i].bussy):\n",
    "                return i\n",
    "        return -1\n",
    "    \n",
    "    #devuelve el tiempo de salida mas pequeño\n",
    "    def get_td(self):\n",
    "        td_min = float('Inf')\n",
    "        td_servidor = -1\n",
    "        for i in range(len(self.servidores)):\n",
    "            if((self.servidores[i].task_running != False) and (self.servidores[i].task_running.t_salida < td_min)):\n",
    "                td_min = self.servidores[i].task_running.t_salida\n",
    "                td_servidor = i\n",
    "        return (td_min,td_servidor)\n",
    "        \n",
    "    #debug block\n",
    "    def debug(self):\n",
    "        print(\"t: \", self.t, \"\\tta: \", self.ta, \"\\ttd: \", self.get_td()[0])\n",
    "        print(\"Servidores: \",end='')\n",
    "        for i in self.servidores:\n",
    "            print(\"\\t\",end='')\n",
    "            print(i.bussy,end='')\n",
    "        print(\"\\ttasks_cola: \", end='')\n",
    "        print(len(self.cola_eventos),end='')\n",
    "        print(\"\")\n",
    "        "
   ]
  },
  {
   "cell_type": "markdown",
   "metadata": {},
   "source": [
    "Los casos para el experimento de un solo servidor que encola fueron ligeramente modificados para la implementación de múltiples servidores.\n",
    "\n",
    "<b>Caso 1: </b>\n",
    "El siguiente evento es una llegada de una solicitud al sistema y aún no es la hora de cierre. \n",
    "\n",
    "<b>Caso 2: </b>\n",
    "El siguiente evento es una salida de una solicitud del sistema. Si ocurrre luego de la hora de cierre se suma tiempo extra al servidor. Esta modificación hace prescindible el caso 3. \n",
    "\n",
    "<b>Caso 4: </b>\n",
    "El próximo evento ocurre luego de la hora de cierre y ya no hay solicitudes en cola. "
   ]
  },
  {
   "cell_type": "code",
   "execution_count": null,
   "metadata": {},
   "outputs": [],
   "source": [
    "def caso1(world):\n",
    "    #print(\"CASO 1\",end='')\n",
    "    if(world.ta <= world.T):\n",
    "        #world.debug()\n",
    "        world.t = world.ta\n",
    "        world.Na += 1\n",
    "        world.ta = poisson(world.ldp,world.t)\n",
    "        #print(\"\\tNew_ta: \",world.ta)\n",
    "        world.add_task(world.t)"
   ]
  },
  {
   "cell_type": "code",
   "execution_count": null,
   "metadata": {},
   "outputs": [],
   "source": [
    "def caso2(world):\n",
    "    #print(\"CASO 2\")\n",
    "    #world.debug()\n",
    "    world.t = world.get_td()[0]\n",
    "    servidor = world.get_td()[1] #es un indice\n",
    "    world.Nd += 1\n",
    "    #world.servidores[servidor].bussy = False\n",
    "    world.servidores[servidor].drop_task()\n",
    "    \n",
    "    if(not world.get_tiempoDisp()):\n",
    "        world.servidores[servidor].Tp += max(world.t - world.T, 0)\n",
    "        \n",
    "    if(len(world.cola_eventos)>0):\n",
    "        world.assign_task(world.t,servidor)\n",
    "        \n",
    "        "
   ]
  },
  {
   "cell_type": "code",
   "execution_count": null,
   "metadata": {},
   "outputs": [],
   "source": [
    "def caso4(world):\n",
    "    #print(\"CASO 4\")\n",
    "    world.serv_working = False"
   ]
  },
  {
   "cell_type": "code",
   "execution_count": null,
   "metadata": {},
   "outputs": [],
   "source": [
    "def selector(world):\n",
    "    if((world.ta < world.get_td()[0]) and (world.ta < world.T)):\n",
    "        # El siguiente evento es una llegada de una solicitud al \n",
    "        # sistema y aún no es la hora de cierre. \n",
    "        caso1(world)\n",
    "    elif(world.get_td()[0] < world.ta):\n",
    "        # El siguiente evento es una salida de una solicitud del\n",
    "        # sistema\n",
    "        caso2(world)\n",
    "    else:\n",
    "        # El siguiente evento ocurre luego de la hora de cierre y \n",
    "        # ya no hay solicitudes en cola\n",
    "        caso4(world)"
   ]
  },
  {
   "cell_type": "markdown",
   "metadata": {},
   "source": [
    "Al ingresar los parámetros del sistema es posible simular uno o múltiples servidores. Posteriormente se obtienen las estadísticas de funcionamiento. "
   ]
  },
  {
   "cell_type": "code",
   "execution_count": null,
   "metadata": {},
   "outputs": [],
   "source": [
    "def simulador(T,ldp,lde,servidores):\n",
    "    #se crea el sistema con todos los parametros\n",
    "    world = SystemSim(T,ldp,lde,servidores)\n",
    "    \n",
    "    while(world.get_tiempoDisp()):\n",
    "        #print(\"\")\n",
    "        #world.debug()\n",
    "        selector(world)\n",
    "    return world\n",
    "    "
   ]
  },
  {
   "cell_type": "code",
   "execution_count": null,
   "metadata": {},
   "outputs": [],
   "source": [
    "def get_data(world):\n",
    "    #info del sistema\n",
    "    print(\"INFORMACIÓN DEL SISTEMA: \")\n",
    "    print(\"\\t\\tNa: \", world.Na,\"\\tNd: \", world.Nd)\n",
    "    \n",
    "    #solicitudes de cada servidor\n",
    "    print(\"\\nSOLICITUDES:\")\n",
    "    for i in range(len(world.servidores)):\n",
    "        print(\"\\t\\tServidor \",i+1,\"\\t--> \",len(world.servidores[i].tasks))\n",
    "        \n",
    "    #tiempo ocupado de cada servidor\n",
    "    tiempos_servidores = [] #lo almaceno para calcular IDDLE\n",
    "    print(\"\\nTIEMPO OCUPADOS:\")\n",
    "    for i in range(len(world.servidores)):\n",
    "        #servidor X:\n",
    "        tiempo_ocupado = 0\n",
    "        for j in world.servidores[i].tasks:\n",
    "            tiempo_ocupado += (j.t_salida - j.t_atendido)\n",
    "        tiempos_servidores.append(tiempo_ocupado)\n",
    "        print(\"\\t\\tServidor \",i+1,\": \",tiempo_ocupado)\n",
    "    \n",
    "    #tiempo IDDLE\n",
    "    print(\"\\nTIEMPO DESOCUPADOS:\")\n",
    "    for i in range(len(tiempos_servidores)):\n",
    "        print(\"\\t\\tServidor \",i+1,\": \",(world.T - tiempos_servidores[i]))\n",
    "\n",
    "    #Tiempo total de solicitudes en cola\n",
    "    print(\"\\nTIEMPO DE SOLICITUDES EN COLA:\")\n",
    "    tiempo_en_cola_total = 0\n",
    "    solicitudes_en_cola = 0\n",
    "    for i in range(len(world.servidores)):\n",
    "        #servidor X:\n",
    "        for j in world.servidores[i].tasks:\n",
    "            tiempo_en_cola = (j.t_atendido - j.t_llegada)\n",
    "            tiempo_en_cola_total += tiempo_en_cola\n",
    "            if(tiempo_en_cola > 0):\n",
    "                solicitudes_en_cola += 1\n",
    "    print(\"\\t\\tTiempo total: \", tiempo_en_cola_total)\n",
    "    print(\"\\t\\tTiempo promedio de cada solicitud: \", tiempo_en_cola_total/world.Na)\n",
    "    print(\"\\t\\tPromedio de solicitudes por segundo: \", solicitudes_en_cola/world.T)\n",
    "    \n",
    "    \n",
    "    #Promedio cuantas tasks en cola/seg\n",
    "    #contadores = []\n",
    "    #contador = 0\n",
    "    #print(\"\\nPROMEDIO DE SOLICITUDES EN COLA POR SEGUNDO:\")\n",
    "    ###Esta parte se tarda demasiado y no di como evaluarla de otra manera\n",
    "    #se analizan los datos por intervalos de 1 segundo\n",
    "    #for i in range(world.T+1):\n",
    "        #contador = 0\n",
    "        #for j in world.servidores:\n",
    "            #for k in j.tasks:\n",
    "                #if((k.t_llegada < i) and (k.t_llegada > i-1)):\n",
    "                    #está en el intervalo evaluado, verifico que esperó en cola\n",
    "                    #if((k.t_atendido - k.t_llegada)>0):\n",
    "                        #estuvo en cola un tiempo en este intervalo\n",
    "                        #contador +=1\n",
    "                #elif((k.t_llegada < i) and (k.t_llegada < i-1)):\n",
    "                    #estuvo esperando un tiempo en este intervalo\n",
    "                    #if(k.t_atendido > i-1):\n",
    "                        #contador +=1\n",
    "                    #else (no es parte del intervalo)\n",
    "        #contadores.append(contador)\n",
    "    #print(\"\\t\\tPromedio de solicitudes en cola por segundo: \", contador/world.T)\n",
    "    \n",
    "    #tiempo de salida de la última solicitud\n",
    "    print(\"\\nTIEMPO DE SALIDA DE LA ÚLTIMA SOLICITUD: \")\n",
    "    print(\"\\t\\tTiempo final: \",world.t)\n",
    "    for i in range(len(world.servidores)):\n",
    "        print(\"\\t\\tExtra Servidor \", i,\": \",world.servidores[i].Tp)"
   ]
  },
  {
   "cell_type": "markdown",
   "metadata": {},
   "source": [
    "<head><h1> SIMULACIÓN </h1></head>"
   ]
  },
  {
   "cell_type": "markdown",
   "metadata": {},
   "source": [
    "<h3>Gorilla Megacomputing</h3> \n",
    "1 servidor<br>\n",
    "lde = 100<br>\n",
    "ldp = 2400/60"
   ]
  },
  {
   "cell_type": "code",
   "execution_count": null,
   "metadata": {
    "scrolled": false
   },
   "outputs": [],
   "source": [
    "simulacion = simulador(3600,2400/60,100,1)\n",
    "print(\"---> Finished: SIMULACION 1 <---\")\n",
    "get_data(simulacion)"
   ]
  },
  {
   "cell_type": "markdown",
   "metadata": {},
   "source": [
    "<h3>Ants smart computing</h3> \n",
    "10 servidores<br>\n",
    "lde = 10<br>\n",
    "ldp = 2400/60"
   ]
  },
  {
   "cell_type": "code",
   "execution_count": null,
   "metadata": {},
   "outputs": [],
   "source": [
    "simulacion = simulador(3600,2400/60,10,10)\n",
    "print(\"---> Finished: SIMULACION 2 <---\")\n",
    "get_data(simulacion)"
   ]
  },
  {
   "cell_type": "markdown",
   "metadata": {},
   "source": [
    "<h3>Ants smart computing</h3> \n",
    "17 servidores<br>\n",
    "lde = 10<br>\n",
    "ldp = 2400/60"
   ]
  },
  {
   "cell_type": "code",
   "execution_count": null,
   "metadata": {},
   "outputs": [],
   "source": [
    "simulacion = simulador(3600,2400/60,10,17)\n",
    "print(\"---> Finished: SIMULACION 3 <---\")\n",
    "get_data(simulacion)"
   ]
  },
  {
   "cell_type": "markdown",
   "metadata": {},
   "source": [
    "<h3>Gorilla Megacomputing</h3> \n",
    "1 servidor<br>\n",
    "lde = 100<br>\n",
    "ldp = 6000/60"
   ]
  },
  {
   "cell_type": "code",
   "execution_count": null,
   "metadata": {
    "scrolled": false
   },
   "outputs": [],
   "source": [
    "simulacion = simulador(3600,6000/60,100,1)\n",
    "print(\"---> Finished: SIMULACION 4 <---\")\n",
    "get_data(simulacion)"
   ]
  },
  {
   "cell_type": "markdown",
   "metadata": {},
   "source": [
    "<h3>Ants smart computing</h3> \n",
    "10 servidores<br>\n",
    "lde = 10<br>\n",
    "ldp = 6000/60"
   ]
  },
  {
   "cell_type": "code",
   "execution_count": null,
   "metadata": {},
   "outputs": [],
   "source": [
    "simulacion = simulador(3600,6000/60,10,10)\n",
    "print(\"---> Finished: SIMULACION 5 <---\")\n",
    "get_data(simulacion)"
   ]
  }
 ],
 "metadata": {
  "kernelspec": {
   "display_name": "myenv",
   "language": "python",
   "name": "myenv"
  },
  "language_info": {
   "codemirror_mode": {
    "name": "ipython",
    "version": 3
   },
   "file_extension": ".py",
   "mimetype": "text/x-python",
   "name": "python",
   "nbconvert_exporter": "python",
   "pygments_lexer": "ipython3",
   "version": "3.7.4"
  }
 },
 "nbformat": 4,
 "nbformat_minor": 2
}
