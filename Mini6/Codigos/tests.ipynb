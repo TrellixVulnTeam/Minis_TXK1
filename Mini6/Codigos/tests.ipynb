{
 "cells": [
  {
   "cell_type": "code",
   "execution_count": 12,
   "metadata": {},
   "outputs": [
    {
     "data": {
      "image/png": "[encoded data removed]",
      "text/plain": [
       "<Figure size 432x288 with 1 Axes>"
      ]
     },
     "metadata": {
      "needs_background": "light"
     },
     "output_type": "display_data"
    }
   ],
   "source": [
    "import numpy as np\n",
    "import matplotlib.pyplot as plt \n",
    "\n",
    "x = np.linspace(0, 0.4)\n",
    "y = np.piecewise(x, [x<0.2, x>=0.2], [lambda x: 1, lambda x: -5*(x-0.2) + 1])\n",
    "\n",
    "plt.plot(x, y)\n",
    "\n",
    "plt.show()"
   ]
  },
  {
   "cell_type": "markdown",
   "metadata": {},
   "source": [
    "import numpy as np\n",
    "import matplotlib.pyplot as plt \n",
    "\n",
    "prueba = lambda x: -x**2 + 2\n",
    "prueba2 = lambda x: x\n",
    "\n",
    "x = np.linspace(0,1)\n",
    "y = prueba2(x)\n",
    "yx = prueba(x)*x\n",
    "yx_y = yx/y\n",
    "\n",
    "plt.plot(x, y)\n",
    "\n",
    "plt.show()\n",
    "\n",
    "# recibiendo función\n",
    "def Centroide(fun, limi, lims, dx):\n",
    "    samples = round((lims - limi)/dx)\n",
    "    x = np.linspace(limi,lims,samples)\n",
    "    z = fun(x)\n",
    "    zx = fun(x)*x\n",
    "    iz = np.trapz(z,x)\n",
    "    izx = np.trapz(zx,x)\n",
    "    return izx/iz\n",
    "\n",
    "# recibiendo arrays\n",
    "def CentroideA(x,y):\n",
    "    z = y\n",
    "    zx = y*x\n",
    "    iz = np.trapz(z,x)\n",
    "    izx = np.trapz(zx,x)\n",
    "    return izx/iz\n",
    "    \n",
    "print(Centroide(prueba2,0,1,0.01))\n",
    "print(CentroideA(x,y))\n",
    "    \n",
    "    \n",
    "    \n",
    "    \n",
    "    "
   ]
  },
  {
   "cell_type": "code",
   "execution_count": 8,
   "metadata": {},
   "outputs": [
    {
     "name": "stdout",
     "output_type": "stream",
     "text": [
      "False\n",
      "True\n"
     ]
    }
   ],
   "source": [
    "a = \"a\"\n",
    "b = lambda x: x+1\n",
    "\n",
    "print(callable(a))\n",
    "print(callable(b))"
   ]
  },
  {
   "cell_type": "code",
   "execution_count": null,
   "metadata": {},
   "outputs": [],
   "source": []
  },
  {
   "cell_type": "code",
   "execution_count": null,
   "metadata": {},
   "outputs": [],
   "source": []
  }
 ],
 "metadata": {
  "kernelspec": {
   "display_name": "myenv",
   "language": "python",
   "name": "myenv"
  },
  "language_info": {
   "codemirror_mode": {
    "name": "ipython",
    "version": 3
   },
   "file_extension": ".py",
   "mimetype": "text/x-python",
   "name": "python",
   "nbconvert_exporter": "python",
   "pygments_lexer": "ipython3",
   "version": "3.7.4"
  }
 },
 "nbformat": 4,
 "nbformat_minor": 2
}
