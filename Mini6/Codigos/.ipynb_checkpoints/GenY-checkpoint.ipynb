{
 "cells": [
  {
   "cell_type": "code",
   "execution_count": 144,
   "metadata": {},
   "outputs": [],
   "source": [
    "# IMPORTS\n",
    "import random as rnd\n",
    "import numpy as np\n",
    "import statistics as st"
   ]
  },
  {
   "cell_type": "code",
   "execution_count": 145,
   "metadata": {},
   "outputs": [],
   "source": [
    "def debug_print(lista, titulo):\n",
    "    print(titulo)\n",
    "    for i in lista:\n",
    "        print(i.fitness)"
   ]
  },
  {
   "cell_type": "code",
   "execution_count": 146,
   "metadata": {},
   "outputs": [],
   "source": [
    "class individuo:\n",
    "    def __init__(self, x1, x2):\n",
    "        self.x1 = x1\n",
    "        self.x2 = x2\n",
    "        self.fitness = 0\n",
    "    \n",
    "    def set_fitness(self, f):\n",
    "        self.fitness = f\n",
    "        #print(self.fitness)\n",
    "        \n",
    "    def debug(self):\n",
    "        s = \"x1: \"+ str(self.x1) + \"\\n\" + \"x2: \"+ str(self.x2) + \"\\n\" + \"fitness: \"+ str(self.fitness)\n",
    "        return s\n",
    "        "
   ]
  },
  {
   "cell_type": "code",
   "execution_count": 147,
   "metadata": {},
   "outputs": [],
   "source": [
    "def pool_inicial(n_individuos, limsx1, limix1, limsx2, limix2, restr):\n",
    "    population = []\n",
    "    for i in range(n_individuos):\n",
    "        x1 = round(rnd.random()*(limsx1 - limix1)+limix1, 1)\n",
    "        limrx2 = restr(x1)\n",
    "        limsx2 = min(limsx2,limrx2)\n",
    "        x2 = round(rnd.random()*(limsx2 - limix2)+limix2, 1)\n",
    "        ind = individuo(x1,x2)\n",
    "        population.append(ind)\n",
    "    #print(\"pool inicial\", population)\n",
    "    return population"
   ]
  },
  {
   "cell_type": "code",
   "execution_count": 148,
   "metadata": {},
   "outputs": [],
   "source": [
    "def check_mutation(x1, x2, limsx1, limix1, limsx2, limix2, restr):\n",
    "    check_x1 = False\n",
    "    check_x2 = False\n",
    "    limrx2 = restr(x1)\n",
    "    limsx2 = min(limsx2,limrx2)\n",
    "    if(x1<limsx1 and x1>limix1):\n",
    "        check_x1 = True\n",
    "    if(check_x1):\n",
    "        limrx2 = restr(x1)\n",
    "        limsx2 = min(limsx2,limrx2)\n",
    "        if(x2<limsx2 and x2>limix2):\n",
    "            check_x2 = True\n",
    "        \n",
    "    return check_x1, check_x2"
   ]
  },
  {
   "cell_type": "code",
   "execution_count": 149,
   "metadata": {},
   "outputs": [],
   "source": [
    "def fitness_calculation(population, fun):\n",
    "    for i in population:\n",
    "        #print(\"indv x1: \", i.x1, \"indv x2: \", i.x2)\n",
    "        i.set_fitness(fun(i.x1, i.x2))"
   ]
  },
  {
   "cell_type": "code",
   "execution_count": 150,
   "metadata": {},
   "outputs": [],
   "source": [
    "def selection(population):\n",
    "    pop_sorted = sorted(population, key=lambda x: x.fitness, reverse=True)\n",
    "    #debug_print(pop_sorted, \"sorted population: \")\n",
    "    new_population = pop_sorted[:round(len(pop_sorted)/2)]\n",
    "    #debug_print(new_population,\"selection return: \")\n",
    "    return new_population"
   ]
  },
  {
   "cell_type": "code",
   "execution_count": 151,
   "metadata": {},
   "outputs": [],
   "source": [
    "def cross(population):\n",
    "    new_population = []\n",
    "    for i in population:\n",
    "        for j in population:\n",
    "            if(i != j):\n",
    "                x1_heredada = i.x1\n",
    "                x2_heredada = j.x2\n",
    "                hijo = individuo(x1_heredada, x2_heredada)\n",
    "                new_population.append(hijo)\n",
    "    #new_population.append(individuo(population[-1].x1, population[0].x2))\n",
    "    return new_population[:len(population)*2]"
   ]
  },
  {
   "cell_type": "code",
   "execution_count": 152,
   "metadata": {},
   "outputs": [],
   "source": [
    "def mutation(population, limsx1, limix1, limsx2, limix2, restr):\n",
    "    new_population = []\n",
    "    for i in population:\n",
    "        c_x1 = False\n",
    "        c_x2 = False\n",
    "        while(not(c_x1) and not(c_x2)):\n",
    "            gen_mutar = rnd.randint(0,1)\n",
    "            if(gen_mutar == 0):\n",
    "                x1 = round(i.x1 + rnd.gauss(0, 0.001), 3)\n",
    "                x2 = i.x2\n",
    "            else:\n",
    "                x1 = i.x1\n",
    "                x2 = round(i.x2 + rnd.gauss(0, 0.001), 3)\n",
    "            c = check_mutation(x1, x2, limsx1, limix1, limsx2, limix2, restr)\n",
    "            c_x1 = c[0]\n",
    "            c_x2 = c[1]\n",
    "        new_population.append(individuo(x1,x2))\n",
    "    return new_population"
   ]
  },
  {
   "cell_type": "code",
   "execution_count": 157,
   "metadata": {},
   "outputs": [],
   "source": [
    "def Optimo(fitness, n_individuos, limsx1, limix1, limsx2, limix2, restr, nmax, var):\n",
    "    varianza = 1\n",
    "    n = 0\n",
    "    population = pool_inicial(n_individuos, limsx1, limix1, limsx2, limix2, restr)\n",
    "    while(n < nmax):\n",
    "        print(\"\\n----> iteración: \", n)\n",
    "        print(\"cant ind\", len(population))\n",
    "        print(\"first item: \", population[len(population)-1].fitness)\n",
    "        population = selection(population)\n",
    "        #debug_print(population, \"after selection\")\n",
    "        population = cross(population)\n",
    "        #debug_print(population, \"after cross\")\n",
    "        population = mutation(population, limsx1, limix1, limsx2, limix2, restr)\n",
    "        fitness_calculation(population, fitness)\n",
    "        #debug_print(population, \"after mutation\")\n",
    "        fits = [i.fitness for i in population]\n",
    "        print(\"fits: \", fits)\n",
    "        varianza = st.variance(fits[:round(len(fits)/2)])\n",
    "        print(\"varianza\",varianza)\n",
    "        n += 1\n",
    "        print(\"fitness order first item: \", population[0].fitness)\n",
    "    return population[0]"
   ]
  },
  {
   "cell_type": "code",
   "execution_count": 158,
   "metadata": {
    "scrolled": false
   },
   "outputs": [
    {
     "name": "stdout",
     "output_type": "stream",
     "text": [
      "\n",
      "----> iteración:  0\n",
      "cant ind 6\n",
      "first item:  0\n",
      "fits:  [-4.540000000000001, -18.413000999999998, -7.863204, -18.125603999999996, -6.043400999999999, -2.450000000000001]\n",
      "varianza 52.46700971880431\n",
      "fitness order first item:  -4.540000000000001\n",
      "\n",
      "----> iteración:  1\n",
      "cant ind 6\n",
      "first item:  -2.450000000000001\n",
      "fits:  [-2.439204, -6.042601999999999, -4.540000000000001, -8.136401999999999, -2.4446009999999996, -2.4516040000000006]\n",
      "varianza 3.2759389584039975\n",
      "fitness order first item:  -2.439204\n",
      "\n",
      "----> iteración:  2\n",
      "cant ind 6\n",
      "first item:  -2.4516040000000006\n",
      "fits:  [-2.4454019999999996, -2.455401, -2.433809, -2.450000000000001, -2.4408079999999996, -2.446204999999999]\n",
      "varianza 0.00011676535233333366\n",
      "fitness order first item:  -2.4454019999999996\n",
      "\n",
      "----> iteración:  3\n",
      "cant ind 6\n",
      "first item:  -2.446204999999999\n",
      "fits:  [-2.439204, -2.450000000000001, -2.4354129999999996, -2.4470099999999997, -2.4354129999999996, -2.440005]\n",
      "varianza 5.728431100001108e-05\n",
      "fitness order first item:  -2.439204\n",
      "\n",
      "----> iteración:  4\n",
      "cant ind 6\n",
      "first item:  -2.440005\n",
      "fits:  [-2.4300200000000007, -2.4416130000000003, -2.4300200000000007, -2.446204999999999, -2.433809, -2.4446009999999996]\n",
      "varianza 4.479921633332962e-05\n",
      "fitness order first item:  -2.4300200000000007\n",
      "\n",
      "----> iteración:  5\n",
      "cant ind 6\n",
      "first item:  -2.4446009999999996\n",
      "fits:  [-2.4284160000000012, -2.4354129999999996, -2.4354129999999996, -2.4354129999999996, -2.423024999999999, -2.4276170000000015]\n",
      "varianza 1.631933633332571e-05\n",
      "fitness order first item:  -2.4284160000000012\n",
      "\n",
      "----> iteración:  6\n",
      "cant ind 6\n",
      "first item:  -2.4276170000000015\n",
      "fits:  [-2.4284160000000012, -2.4276170000000015, -2.4222259999999993, -2.4330100000000003, -2.423825999999999, -2.4284160000000012]\n",
      "varianza 1.1336230333341079e-05\n",
      "fitness order first item:  -2.4284160000000012\n",
      "\n",
      "----> iteración:  7\n",
      "cant ind 6\n",
      "first item:  -2.4284160000000012\n",
      "fits:  [-2.416837, -2.4276170000000015, -2.4292170000000013, -2.4292170000000013, -2.4222259999999993, -2.4222259999999993]\n",
      "varianza 4.5338800000009555e-05\n",
      "fitness order first item:  -2.416837\n",
      "\n",
      "----> iteración:  8\n",
      "cant ind 6\n",
      "first item:  -2.4222259999999993\n",
      "fits:  [-2.4222259999999993, -2.4222259999999993, -2.416837, -2.416837, -2.416837, -2.4222259999999993]\n",
      "varianza 9.680440333330459e-06\n",
      "fitness order first item:  -2.4222259999999993\n",
      "\n",
      "----> iteración:  9\n",
      "cant ind 6\n",
      "first item:  -2.4222259999999993\n",
      "fits:  [-2.416837, -2.4222259999999993, -2.4160399999999997, -2.418437, -2.4160399999999997, -2.4160399999999997]\n",
      "varianza 1.1323854333331134e-05\n",
      "fitness order first item:  -2.416837\n",
      "RESULTADOS: \n",
      "x1:  0.399 \tx2:  -2.694\n",
      "fitness:  -2.416837\n"
     ]
    }
   ],
   "source": [
    "fitness = lambda x1,x2: -(x1)**2 - (x2)**2 + 5\n",
    "restr = lambda x1: x1\n",
    "pos = np.linspace(-5,5,100)\n",
    "\n",
    "o = Optimo(fitness, 6, 5, -5, 5, -5, restr, 10, 0.2)\n",
    "print(\"RESULTADOS: \")\n",
    "print(\"x1: \",o.x1, \"\\tx2: \",o.x2)\n",
    "print(\"fitness: \", o.fitness)"
   ]
  },
  {
   "cell_type": "code",
   "execution_count": null,
   "metadata": {},
   "outputs": [],
   "source": []
  },
  {
   "cell_type": "code",
   "execution_count": null,
   "metadata": {},
   "outputs": [],
   "source": []
  },
  {
   "cell_type": "code",
   "execution_count": null,
   "metadata": {},
   "outputs": [],
   "source": []
  },
  {
   "cell_type": "code",
   "execution_count": null,
   "metadata": {},
   "outputs": [],
   "source": []
  }
 ],
 "metadata": {
  "kernelspec": {
   "display_name": "myenv",
   "language": "python",
   "name": "myenv"
  },
  "language_info": {
   "codemirror_mode": {
    "name": "ipython",
    "version": 3
   },
   "file_extension": ".py",
   "mimetype": "text/x-python",
   "name": "python",
   "nbconvert_exporter": "python",
   "pygments_lexer": "ipython3",
   "version": "3.7.4"
  }
 },
 "nbformat": 4,
 "nbformat_minor": 2
}
