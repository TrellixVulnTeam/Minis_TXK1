{
 "cells": [
  {
   "cell_type": "code",
   "execution_count": 2,
   "metadata": {},
   "outputs": [],
   "source": [
    "# IMPORTS\n",
    "import random as rnd\n",
    "import numpy as np"
   ]
  },
  {
   "cell_type": "code",
   "execution_count": 3,
   "metadata": {},
   "outputs": [],
   "source": [
    "class individuo:\n",
    "    \n",
    "    def _init_(self, limsx1, limix1, limsx2, limix2, restr):\n",
    "        self.x1 = round(rnd.random()*(limsx1 - limix1)+limix1, 1)\n",
    "        limrx2 = restr(x1)\n",
    "        limsx2 = min(limsx2,limrx2)\n",
    "        self.x2 = round(rnd.random()*(limsx2 - limix2)+limix2, 1)\n",
    "        self.fitness = 0\n",
    "    \n",
    "    def fitness(self, fun):\n",
    "        self.fitness = fun(self.x1,self.x2)\n",
    "        \n",
    "    def debug():\n",
    "        s = \"x1: \"+ str(self.x1) + \"/n\" +\n",
    "            \"x2: \"+ str(self.x2) + \"/n\" +\n",
    "            \"fitness: \"+ str(self.fitness)\n",
    "        return s\n",
    "        \n",
    "\"\"\"\"\n",
    "def individuo(limsx1, limix1, limsx2, limix2, restr):\n",
    "    x1 = round(rnd.random()*(limsx1 - limix1)+limix1, 1)\n",
    "    limrx2 = restr(x1)\n",
    "    limsx2 = min(limsx2,limrx2)\n",
    "    x2 = round(rnd.random()*(limsx2 - limix2)+limix2, 1)\n",
    "    individuo = [x1,x2]\n",
    "    return individuo\n",
    "\"\"\"\""
   ]
  },
  {
   "cell_type": "code",
   "execution_count": null,
   "metadata": {},
   "outputs": [],
   "source": [
    "def population(n_individuos, limsx1, limix1, limsx2, limix2, restr):\n",
    "    population = []\n",
    "    for i in range(n_individuos):\n",
    "        ind = individuo(limsx1, limix1, limsx2, limix2, restr)\n",
    "        population.append(ind)\n",
    "    return population  "
   ]
  },
  {
   "cell_type": "code",
   "execution_count": null,
   "metadata": {},
   "outputs": [],
   "source": [
    "def fitness_calculation(population, fun):\n",
    "    for i in population:\n",
    "        population[i].fitness()"
   ]
  },
  {
   "cell_type": "code",
   "execution_count": null,
   "metadata": {},
   "outputs": [],
   "source": [
    "def selection(population):\n",
    "    pop_sorted = sorted(population, key=lambda x: x.fitness, reverse=True)\n",
    "    new_population = pop_sorted[:round(len(pop_sorted)/2)]\n",
    "    return new_population"
   ]
  }
 ],
 "metadata": {
  "kernelspec": {
   "display_name": "myenv",
   "language": "python",
   "name": "myenv"
  },
  "language_info": {
   "codemirror_mode": {
    "name": "ipython",
    "version": 3
   },
   "file_extension": ".py",
   "mimetype": "text/x-python",
   "name": "python",
   "nbconvert_exporter": "python",
   "pygments_lexer": "ipython3",
   "version": "3.7.4"
  }
 },
 "nbformat": 4,
 "nbformat_minor": 2
}
