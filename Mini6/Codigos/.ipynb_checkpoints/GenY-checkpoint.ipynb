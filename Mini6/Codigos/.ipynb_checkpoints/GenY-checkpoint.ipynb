{
 "cells": [
  {
   "cell_type": "code",
   "execution_count": 379,
   "metadata": {},
   "outputs": [],
   "source": [
    "# IMPORTS\n",
    "import random as rnd\n",
    "import numpy as np\n",
    "import statistics as st"
   ]
  },
  {
   "cell_type": "code",
   "execution_count": 380,
   "metadata": {},
   "outputs": [],
   "source": [
    "class individuo:\n",
    "    def __init__(self, x1, x2):\n",
    "        self.x1 = x1\n",
    "        self.x2 = x2\n",
    "        self.fitness = 0\n",
    "    \n",
    "    def set_fitness(self, f):\n",
    "        self.fitness = f\n",
    "        \n",
    "    def debug(self):\n",
    "        s = \"x1: \"+ str(self.x1) + \"\\n\" + \"x2: \"+ str(self.x2) + \"\\n\" + \"fitness: \"+ str(self.fitness)\n",
    "        return s\n",
    "        "
   ]
  },
  {
   "cell_type": "code",
   "execution_count": 381,
   "metadata": {},
   "outputs": [],
   "source": [
    "def pool_inicial(n_individuos, limsx1, limix1, limsx2, limix2, restr):\n",
    "    population = []\n",
    "    for i in range(n_individuos):\n",
    "        x1 = round(rnd.random()*(limsx1 - limix1)+limix1, 1)\n",
    "        limrx2 = restr(x1)\n",
    "        limsx2 = min(limsx2,limrx2)\n",
    "        x2 = round(rnd.random()*(limsx2 - limix2)+limix2, 1)\n",
    "        ind = individuo(x1,x2)\n",
    "        population.append(ind)\n",
    "    #print(\"pool inicial\", population)\n",
    "    return population"
   ]
  },
  {
   "cell_type": "code",
   "execution_count": 382,
   "metadata": {},
   "outputs": [],
   "source": [
    "def check_mutation(x1, x2, limsx1, limix1, limsx2, limix2, restr):\n",
    "    check_x1 = False\n",
    "    check_x2 = False\n",
    "    limrx2 = restr(x1)\n",
    "    limsx2 = min(limsx2,limrx2)\n",
    "    if(x1<limsx1 and x1>limix1):\n",
    "        check_x1 = True\n",
    "    if(check_x1):\n",
    "        limrx2 = restr(x1)\n",
    "        limsx2 = min(limsx2,limrx2)\n",
    "        if(x2<limsx2 and x2>limix2):\n",
    "            check_x2 = True\n",
    "        \n",
    "    return check_x1, check_x2"
   ]
  },
  {
   "cell_type": "code",
   "execution_count": 383,
   "metadata": {},
   "outputs": [],
   "source": [
    "def fitness_calculation(population, fun):\n",
    "    for i in population:\n",
    "        i.set_fitness(fun(i.x1, i.x2))"
   ]
  },
  {
   "cell_type": "code",
   "execution_count": 384,
   "metadata": {},
   "outputs": [],
   "source": [
    "def selection(population):\n",
    "    pop_sorted = sorted(population, key=lambda x: x.fitness, reverse=True)\n",
    "    new_population = pop_sorted[:round(len(pop_sorted)/2)]\n",
    "    return new_population"
   ]
  },
  {
   "cell_type": "code",
   "execution_count": 385,
   "metadata": {},
   "outputs": [],
   "source": [
    "def cross(population):\n",
    "    new_population = []\n",
    "    for i in population:\n",
    "        for j in population:\n",
    "            if(i != j):\n",
    "                x1_heredada = i.x1\n",
    "                x2_heredada = j.x2\n",
    "                hijo = individuo(x1_heredada, x2_heredada)\n",
    "                new_population.append(hijo)\n",
    "    #new_population.append(individuo(population[-1].x1, population[0].x2))\n",
    "    return new_population[:len(population)*2]"
   ]
  },
  {
   "cell_type": "code",
   "execution_count": 386,
   "metadata": {},
   "outputs": [],
   "source": [
    "def mutation(population, limsx1, limix1, limsx2, limix2, restr):\n",
    "    new_population = []\n",
    "    for i in population:\n",
    "        c_x1 = False\n",
    "        c_x2 = False\n",
    "        while(not(c_x1) and not(c_x2)):\n",
    "            gen_mutar = rnd.randint(0,1)\n",
    "            if(gen_mutar == 0):\n",
    "                x1 = round(i.x1 + rnd.gauss(0, 0.001), 3)\n",
    "                x2 = i.x2\n",
    "            else:\n",
    "                x1 = i.x1\n",
    "                x2 = round(i.x2 + rnd.gauss(0, 0.001), 3)\n",
    "            c = check_mutation(x1, x2, limsx1, limix1, limsx2, limix2, restr)\n",
    "            c_x1 = c[0]\n",
    "            c_x2 = c[1]\n",
    "        new_population.append(individuo(x1,x2))\n",
    "    return new_population"
   ]
  },
  {
   "cell_type": "code",
   "execution_count": 387,
   "metadata": {},
   "outputs": [],
   "source": [
    "def Optimo(fitness, n_individuos, limsx1, limix1, limsx2, limix2, restr, nmax, var):\n",
    "    varianza = 1\n",
    "    n = 0\n",
    "    population = pool_inicial(n_individuos, limsx1, limix1, limsx2, limix2, restr)\n",
    "    while(n < nmax):\n",
    "        print(\"cant ind\", len(population))\n",
    "        population = fitness_calculation(population, fitness)\n",
    "        population = selection(population)\n",
    "        population = cross(population)\n",
    "        population = mutation(population, limsx1, limix1, limsx2, limix2, restr)\n",
    "        fits = [i.fitness for i in population]\n",
    "        varianza = st.variance(fits[:round(len(fits)/2)])\n",
    "        print(\"varianza\",varianza)\n",
    "        n += 1\n",
    "    return population[0]"
   ]
  },
  {
   "cell_type": "code",
   "execution_count": 388,
   "metadata": {},
   "outputs": [
    {
     "name": "stdout",
     "output_type": "stream",
     "text": [
      "cant ind 30\n"
     ]
    },
    {
     "ename": "AttributeError",
     "evalue": "'NoneType' object has no attribute 'fitness'",
     "output_type": "error",
     "traceback": [
      "\u001b[1;31m---------------------------------------------------------------------------\u001b[0m",
      "\u001b[1;31mAttributeError\u001b[0m                            Traceback (most recent call last)",
      "\u001b[1;32m<ipython-input-388-ab6ac2b81063>\u001b[0m in \u001b[0;36m<module>\u001b[1;34m\u001b[0m\n\u001b[0;32m      3\u001b[0m \u001b[0mpos\u001b[0m \u001b[1;33m=\u001b[0m \u001b[0mnp\u001b[0m\u001b[1;33m.\u001b[0m\u001b[0mlinspace\u001b[0m\u001b[1;33m(\u001b[0m\u001b[1;33m-\u001b[0m\u001b[1;36m5\u001b[0m\u001b[1;33m,\u001b[0m\u001b[1;36m5\u001b[0m\u001b[1;33m,\u001b[0m\u001b[1;36m100\u001b[0m\u001b[1;33m)\u001b[0m\u001b[1;33m\u001b[0m\u001b[1;33m\u001b[0m\u001b[0m\n\u001b[0;32m      4\u001b[0m \u001b[1;33m\u001b[0m\u001b[0m\n\u001b[1;32m----> 5\u001b[1;33m \u001b[0mo\u001b[0m \u001b[1;33m=\u001b[0m \u001b[0mOptimo\u001b[0m\u001b[1;33m(\u001b[0m\u001b[0mfitness\u001b[0m\u001b[1;33m,\u001b[0m \u001b[1;36m30\u001b[0m\u001b[1;33m,\u001b[0m \u001b[1;36m5\u001b[0m\u001b[1;33m,\u001b[0m \u001b[1;33m-\u001b[0m\u001b[1;36m5\u001b[0m\u001b[1;33m,\u001b[0m \u001b[1;36m5\u001b[0m\u001b[1;33m,\u001b[0m \u001b[1;33m-\u001b[0m\u001b[1;36m5\u001b[0m\u001b[1;33m,\u001b[0m \u001b[0mrestr\u001b[0m\u001b[1;33m,\u001b[0m \u001b[1;36m100\u001b[0m\u001b[1;33m,\u001b[0m \u001b[1;36m0.2\u001b[0m\u001b[1;33m)\u001b[0m\u001b[1;33m\u001b[0m\u001b[1;33m\u001b[0m\u001b[0m\n\u001b[0m\u001b[0;32m      6\u001b[0m \u001b[0mprint\u001b[0m\u001b[1;33m(\u001b[0m\u001b[0mo\u001b[0m\u001b[1;33m.\u001b[0m\u001b[0mdebug\u001b[0m\u001b[1;33m(\u001b[0m\u001b[1;33m)\u001b[0m\u001b[1;33m)\u001b[0m\u001b[1;33m\u001b[0m\u001b[1;33m\u001b[0m\u001b[0m\n",
      "\u001b[1;32m<ipython-input-387-449ca22e201a>\u001b[0m in \u001b[0;36mOptimo\u001b[1;34m(fitness, n_individuos, limsx1, limix1, limsx2, limix2, restr, nmax, var)\u001b[0m\n\u001b[0;32m      6\u001b[0m         \u001b[0mprint\u001b[0m\u001b[1;33m(\u001b[0m\u001b[1;34m\"cant ind\"\u001b[0m\u001b[1;33m,\u001b[0m \u001b[0mlen\u001b[0m\u001b[1;33m(\u001b[0m\u001b[0mpopulation\u001b[0m\u001b[1;33m)\u001b[0m\u001b[1;33m)\u001b[0m\u001b[1;33m\u001b[0m\u001b[1;33m\u001b[0m\u001b[0m\n\u001b[0;32m      7\u001b[0m         \u001b[0mpopulation\u001b[0m \u001b[1;33m=\u001b[0m \u001b[0mfitness_calculation\u001b[0m\u001b[1;33m(\u001b[0m\u001b[0mpopulation\u001b[0m\u001b[1;33m,\u001b[0m \u001b[0mfitness\u001b[0m\u001b[1;33m)\u001b[0m\u001b[1;33m\u001b[0m\u001b[1;33m\u001b[0m\u001b[0m\n\u001b[1;32m----> 8\u001b[1;33m         \u001b[0mpopulation\u001b[0m \u001b[1;33m=\u001b[0m \u001b[0mselection\u001b[0m\u001b[1;33m(\u001b[0m\u001b[0mpopulation\u001b[0m\u001b[1;33m)\u001b[0m\u001b[1;33m\u001b[0m\u001b[1;33m\u001b[0m\u001b[0m\n\u001b[0m\u001b[0;32m      9\u001b[0m         \u001b[0mpopulation\u001b[0m \u001b[1;33m=\u001b[0m \u001b[0mcross\u001b[0m\u001b[1;33m(\u001b[0m\u001b[0mpopulation\u001b[0m\u001b[1;33m)\u001b[0m\u001b[1;33m\u001b[0m\u001b[1;33m\u001b[0m\u001b[0m\n\u001b[0;32m     10\u001b[0m         \u001b[0mpopulation\u001b[0m \u001b[1;33m=\u001b[0m \u001b[0mmutation\u001b[0m\u001b[1;33m(\u001b[0m\u001b[0mpopulation\u001b[0m\u001b[1;33m,\u001b[0m \u001b[0mlimsx1\u001b[0m\u001b[1;33m,\u001b[0m \u001b[0mlimix1\u001b[0m\u001b[1;33m,\u001b[0m \u001b[0mlimsx2\u001b[0m\u001b[1;33m,\u001b[0m \u001b[0mlimix2\u001b[0m\u001b[1;33m,\u001b[0m \u001b[0mrestr\u001b[0m\u001b[1;33m)\u001b[0m\u001b[1;33m\u001b[0m\u001b[1;33m\u001b[0m\u001b[0m\n",
      "\u001b[1;32m<ipython-input-384-921ed5b07c97>\u001b[0m in \u001b[0;36mselection\u001b[1;34m(population)\u001b[0m\n\u001b[0;32m      1\u001b[0m \u001b[1;32mdef\u001b[0m \u001b[0mselection\u001b[0m\u001b[1;33m(\u001b[0m\u001b[0mpopulation\u001b[0m\u001b[1;33m)\u001b[0m\u001b[1;33m:\u001b[0m\u001b[1;33m\u001b[0m\u001b[1;33m\u001b[0m\u001b[0m\n\u001b[1;32m----> 2\u001b[1;33m     \u001b[0mpop_sorted\u001b[0m \u001b[1;33m=\u001b[0m \u001b[0msorted\u001b[0m\u001b[1;33m(\u001b[0m\u001b[0mpopulation\u001b[0m\u001b[1;33m,\u001b[0m \u001b[0mkey\u001b[0m\u001b[1;33m=\u001b[0m\u001b[1;32mlambda\u001b[0m \u001b[0mx\u001b[0m\u001b[1;33m:\u001b[0m \u001b[0mx\u001b[0m\u001b[1;33m.\u001b[0m\u001b[0mfitness\u001b[0m\u001b[1;33m,\u001b[0m \u001b[0mreverse\u001b[0m\u001b[1;33m=\u001b[0m\u001b[1;32mTrue\u001b[0m\u001b[1;33m)\u001b[0m\u001b[1;33m\u001b[0m\u001b[1;33m\u001b[0m\u001b[0m\n\u001b[0m\u001b[0;32m      3\u001b[0m     \u001b[0mnew_population\u001b[0m \u001b[1;33m=\u001b[0m \u001b[0mpop_sorted\u001b[0m\u001b[1;33m[\u001b[0m\u001b[1;33m:\u001b[0m\u001b[0mround\u001b[0m\u001b[1;33m(\u001b[0m\u001b[0mlen\u001b[0m\u001b[1;33m(\u001b[0m\u001b[0mpop_sorted\u001b[0m\u001b[1;33m)\u001b[0m\u001b[1;33m/\u001b[0m\u001b[1;36m2\u001b[0m\u001b[1;33m)\u001b[0m\u001b[1;33m]\u001b[0m\u001b[1;33m\u001b[0m\u001b[1;33m\u001b[0m\u001b[0m\n\u001b[0;32m      4\u001b[0m     \u001b[1;32mreturn\u001b[0m \u001b[0mnew_population\u001b[0m\u001b[1;33m\u001b[0m\u001b[1;33m\u001b[0m\u001b[0m\n",
      "\u001b[1;32m<ipython-input-384-921ed5b07c97>\u001b[0m in \u001b[0;36m<lambda>\u001b[1;34m(x)\u001b[0m\n\u001b[0;32m      1\u001b[0m \u001b[1;32mdef\u001b[0m \u001b[0mselection\u001b[0m\u001b[1;33m(\u001b[0m\u001b[0mpopulation\u001b[0m\u001b[1;33m)\u001b[0m\u001b[1;33m:\u001b[0m\u001b[1;33m\u001b[0m\u001b[1;33m\u001b[0m\u001b[0m\n\u001b[1;32m----> 2\u001b[1;33m     \u001b[0mpop_sorted\u001b[0m \u001b[1;33m=\u001b[0m \u001b[0msorted\u001b[0m\u001b[1;33m(\u001b[0m\u001b[0mpopulation\u001b[0m\u001b[1;33m,\u001b[0m \u001b[0mkey\u001b[0m\u001b[1;33m=\u001b[0m\u001b[1;32mlambda\u001b[0m \u001b[0mx\u001b[0m\u001b[1;33m:\u001b[0m \u001b[0mx\u001b[0m\u001b[1;33m.\u001b[0m\u001b[0mfitness\u001b[0m\u001b[1;33m,\u001b[0m \u001b[0mreverse\u001b[0m\u001b[1;33m=\u001b[0m\u001b[1;32mTrue\u001b[0m\u001b[1;33m)\u001b[0m\u001b[1;33m\u001b[0m\u001b[1;33m\u001b[0m\u001b[0m\n\u001b[0m\u001b[0;32m      3\u001b[0m     \u001b[0mnew_population\u001b[0m \u001b[1;33m=\u001b[0m \u001b[0mpop_sorted\u001b[0m\u001b[1;33m[\u001b[0m\u001b[1;33m:\u001b[0m\u001b[0mround\u001b[0m\u001b[1;33m(\u001b[0m\u001b[0mlen\u001b[0m\u001b[1;33m(\u001b[0m\u001b[0mpop_sorted\u001b[0m\u001b[1;33m)\u001b[0m\u001b[1;33m/\u001b[0m\u001b[1;36m2\u001b[0m\u001b[1;33m)\u001b[0m\u001b[1;33m]\u001b[0m\u001b[1;33m\u001b[0m\u001b[1;33m\u001b[0m\u001b[0m\n\u001b[0;32m      4\u001b[0m     \u001b[1;32mreturn\u001b[0m \u001b[0mnew_population\u001b[0m\u001b[1;33m\u001b[0m\u001b[1;33m\u001b[0m\u001b[0m\n",
      "\u001b[1;31mAttributeError\u001b[0m: 'NoneType' object has no attribute 'fitness'"
     ]
    }
   ],
   "source": [
    "fitness = lambda x1,x2: -(x1)**2 - (x2)**2 + 5\n",
    "restr = lambda x1: x1\n",
    "pos = np.linspace(-5,5,100)\n",
    "\n",
    "o = Optimo(fitness, 30, 5, -5, 5, -5, restr, 100, 0.2)\n",
    "print(o.debug())"
   ]
  }
 ],
 "metadata": {
  "kernelspec": {
   "display_name": "myenv",
   "language": "python",
   "name": "myenv"
  },
  "language_info": {
   "codemirror_mode": {
    "name": "ipython",
    "version": 3
   },
   "file_extension": ".py",
   "mimetype": "text/x-python",
   "name": "python",
   "nbconvert_exporter": "python",
   "pygments_lexer": "ipython3",
   "version": "3.7.4"
  }
 },
 "nbformat": 4,
 "nbformat_minor": 2
}
