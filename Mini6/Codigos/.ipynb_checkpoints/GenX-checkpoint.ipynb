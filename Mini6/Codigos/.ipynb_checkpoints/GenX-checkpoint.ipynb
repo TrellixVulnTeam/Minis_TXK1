{
 "cells": [
  {
   "cell_type": "code",
   "execution_count": null,
   "metadata": {},
   "outputs": [],
   "source": [
    "# IMPORTS\n",
    "import random\n",
    "import statistics as st\n",
    "import numpy as np"
   ]
  },
  {
   "cell_type": "code",
   "execution_count": null,
   "metadata": {},
   "outputs": [],
   "source": [
    "def Optimo(fitness, pos, parents, rest, var, nmax):\n",
    "    # fitness: función de fitness\n",
    "    # pos: rango de valores en los que puede estar la variable x1 (linspace?)\n",
    "    # parents: cantidad de parents para el pool\n",
    "    # rest: función de restricción de dependencia de x2 con x1\n",
    "    # var: varianza entre hijos\n",
    "    # preduccion: porcentaje de reducción offspring\n",
    "    \n",
    "    # Pool inicial\n",
    "    population = []\n",
    "    pop_fitness = []\n",
    "    for i in range(parents):\n",
    "        u = random.randint(0,parents)\n",
    "        x1 = pos[u]\n",
    "        x2 = rest(x1)\n",
    "        population.append([x1,fitness(x1,x2)])\n",
    "        #pop_fitness.append(fitness(x1,x2)) \n",
    "    \n",
    "    #print(\"population inicial\", population)\n",
    "    #print(\"fitness population\", pop_fitness)\n",
    "    \n",
    "    n = 0\n",
    "    varianza = 1\n",
    "    s = sorted(population, key=getKey, reverse=True)\n",
    "    pop = [i[0] for i in s]\n",
    "    \n",
    "    while (varianza > var and n < nmax):\n",
    "        # Ordenar fitness\n",
    "        mating_pool = pop[:round(len(pop)/2)]\n",
    "        mating_pool_1000 = [(i * 1000) for i in mating_pool]\n",
    "        #mating_pool_str = [str(round(i)) for i in mating_pool_1000]\n",
    "        mating_pool_str = [ '%.0f' % elem for elem in mating_pool_1000 ]\n",
    "\n",
    "        new_population = []\n",
    "        for i in mating_pool_str:\n",
    "            for j in mating_pool_str:\n",
    "                # croos over\n",
    "                corte = random.randint(0,8)\n",
    "                hijo_str = i[:corte] + j[corte:]\n",
    "                hijo_1000 = float(hijo_str)\n",
    "                x1 = hijo_1000/1000\n",
    "                x2 = rest(x1)\n",
    "                new_population.append([x1,fitness(x1,x2)])\n",
    "        \n",
    "        population = new_population\n",
    "        s = sorted(population, key=getKey, reverse=True)\n",
    "        pop = [i[0] for i in s]\n",
    "        \n",
    "        #print(population[:5])\n",
    "        varianza = st.variance(pop[:round(len(pop)/2)])\n",
    "        print(\"varianza\",varianza)\n",
    "        n += 1\n",
    "    \n",
    "    return population[0]   "
   ]
  },
  {
   "cell_type": "code",
   "execution_count": null,
   "metadata": {},
   "outputs": [],
   "source": [
    "def getKey(item):\n",
    "    return item[1]"
   ]
  },
  {
   "cell_type": "code",
   "execution_count": null,
   "metadata": {},
   "outputs": [],
   "source": [
    "fitness = lambda x1,x2: -(x1-2)**2 - (x2)**2 + 5\n",
    "rest = lambda x1: x1 - 2\n",
    "pos = np.linspace(-1,5,100)\n",
    "\n",
    "o = Optimo(fitness, pos, 50, rest, 0.2, 50)\n",
    "print(o)"
   ]
  },
  {
   "cell_type": "markdown",
   "metadata": {},
   "source": [
    "# Task 1\n",
    "## Función: \n",
    "$$f(x_1,x_2) = 15x_1 + 30x_2 + 4x_1x_2 - 2x_1^2 - 4x_2^3$$\n",
    "\n",
    "## Restricciones: \n",
    "$$x_1 + 2x_2 \\leq 30$$\n",
    "$$x_1 \\geq 0, x_2 \\geq 0$$"
   ]
  },
  {
   "cell_type": "code",
   "execution_count": null,
   "metadata": {},
   "outputs": [],
   "source": [
    "fitness = lambda x1,x2: (15*x1)+(30*x2)+(4*x1*x2)-(2*(x1**2))-(4*(x2**2))\n",
    "rest = lambda x1: 30 - (2*x1)\n",
    "pos = np.linspace(0,30,100)\n",
    "o = Optimo(fitness, pos, 50, rest, 0.2, 50)\n",
    "print(o)"
   ]
  },
  {
   "cell_type": "markdown",
   "metadata": {},
   "source": [
    "# Task 2\n",
    "## Función:\n",
    "$$z = 3x_1 + 5x_2$$\n",
    "## Restricciones:\n",
    "$$x_1 \\leq 4$$\n",
    "$$2x_2 \\leq 12$$\n",
    "$$3x_1 + 2x_2 \\leq 18$$\n",
    "$$x_1 >= 0, x_2 \\geq 0$$"
   ]
  },
  {
   "cell_type": "code",
   "execution_count": null,
   "metadata": {},
   "outputs": [],
   "source": [
    "fitness = lambda x1,x2: (3*x1) + (5*x2)\n",
    "rest = lambda x2: (18.0/3.0) - (2.0/3.0)*x2\n"
   ]
  },
  {
   "cell_type": "markdown",
   "metadata": {},
   "source": [
    "# Task 3\n",
    "## Función:\n",
    "$$f(x_1,x_2) = 5x_1 - x_1^2 + 8x_2 - 2x_2^2$$\n",
    "## Restricciones:\n",
    "$$3x_1 + 2x_2 \\leq 6$$\n",
    "$$x_1 \\geq 0, x_2 \\geq 0$$"
   ]
  },
  {
   "cell_type": "code",
   "execution_count": null,
   "metadata": {},
   "outputs": [],
   "source": [
    "fitness = lambda x1,x2: (5*x1) - (x1**2) + (8*x2) - (2*(x2**2))\n",
    "rest = lambda x2: (6.0/3.0) - (2.0/3.0)*x2\n"
   ]
  }
 ],
 "metadata": {
  "kernelspec": {
   "display_name": "myenv",
   "language": "python",
   "name": "myenv"
  },
  "language_info": {
   "codemirror_mode": {
    "name": "ipython",
    "version": 3
   },
   "file_extension": ".py",
   "mimetype": "text/x-python",
   "name": "python",
   "nbconvert_exporter": "python",
   "pygments_lexer": "ipython3",
   "version": "3.7.4"
  }
 },
 "nbformat": 4,
 "nbformat_minor": 2
}
