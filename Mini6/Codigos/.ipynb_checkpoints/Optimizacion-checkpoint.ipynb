{
 "cells": [
  {
   "cell_type": "code",
   "execution_count": null,
   "metadata": {},
   "outputs": [],
   "source": [
    "# Imports\n",
    "import random"
   ]
  },
  {
   "cell_type": "code",
   "execution_count": null,
   "metadata": {},
   "outputs": [],
   "source": [
    "def Optimo(fitness, population, rest, parents, n)\n",
    "# fitness: función a optimizar\n",
    "# population: linspace con los valores?\n",
    "# restricción: función de dependencia entre x1 y x2\n",
    "# parents: number of individuals from the population in the mating pool\n",
    "# n: cantidad de iteraciones\n",
    "\n",
    "pool = []\n",
    "for i in range(parents):\n",
    "    u = random.randint(0, len(population)-1)\n",
    "    pool.append(population[u])\n",
    "    \n",
    "mayor = max(population)\n",
    "binMayor = format(mayor, \"b\")\n",
    "corte = len(binMayor)%2\n",
    "\n",
    "for k in range(n)\n",
    "    for i in range(len(pool)-1):\n",
    "        p1 = format(pool[i], \"b\")[0:corte]\n",
    "        p2 = format(pool[i+1], \"b\")[corte:]\n",
    "        hCross = p1+p2\n",
    "        r = random.randint(0,mayor)\n",
    "        if(hCross[r] == 0):\n",
    "            hCross[r] = 1\n",
    "        else:\n",
    "            hCross[r] = 0\n",
    "        hMut = int(hCross, 2)\n",
    "        new_pool.append(hMut)\n",
    "    \n"
   ]
  }
 ],
 "metadata": {
  "kernelspec": {
   "display_name": "myenv",
   "language": "python",
   "name": "myenv"
  },
  "language_info": {
   "codemirror_mode": {
    "name": "ipython",
    "version": 3
   },
   "file_extension": ".py",
   "mimetype": "text/x-python",
   "name": "python",
   "nbconvert_exporter": "python",
   "pygments_lexer": "ipython3",
   "version": "3.7.4"
  }
 },
 "nbformat": 4,
 "nbformat_minor": 2
}
