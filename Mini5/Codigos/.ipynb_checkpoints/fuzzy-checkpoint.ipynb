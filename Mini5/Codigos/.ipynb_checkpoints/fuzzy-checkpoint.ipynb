{
 "cells": [
  {
   "cell_type": "code",
   "execution_count": null,
   "metadata": {},
   "outputs": [],
   "source": [
    "# Variables de entrada:\n",
    "#  - DISTANCIA entre el robot y la pelota\n",
    "#  - ÁNGULO entre el vector formado por el robot y la pelota y\n",
    "#    el vector de dirección del movimiento del robot"
   ]
  },
  {
   "cell_type": "code",
   "execution_count": null,
   "metadata": {},
   "outputs": [],
   "source": [
    "# Funciones de pertenencia\n",
    "def fun_liminf(limp, lims, x):\n",
    "    m = 1/(lims - limp)\n",
    "    if(x < limp):\n",
    "        y = 1\n",
    "    elif(x > lims):\n",
    "        y = 0\n",
    "    else:\n",
    "        y = -m*(x-limp) + 1\n",
    "    return y\n",
    "\n",
    "def fun_base(limi, lims, x):\n",
    "    limm = (lims-limi)/2\n",
    "    m = 1/(lims - limm)\n",
    "    if(x>limi and x<limm):\n",
    "        y = m*(x-limi)+1\n",
    "    elif(x>limm and x<lims):\n",
    "        y = -m*(x-lims)+1\n",
    "    else:\n",
    "        y = 0\n",
    "    return y\n",
    "\n",
    "def fun_media(limi, limmi, limms, lims):\n",
    "    m = 1/(limmi - limi)\n",
    "    if(x>limi and x<limmi):\n",
    "        y = m*(x-limi)+1\n",
    "    elif(x>=limmi and x<limms):\n",
    "        y = 1\n",
    "    elif(x>=limms and x<lims):\n",
    "        y = -m*(x-lims)+1\n",
    "    else:\n",
    "        y = 0\n",
    "    return y\n",
    "\n",
    "def fun_limsup(limi, limp, x):\n",
    "    m = 1/(limp - limi)\n",
    "    if(x < limi):\n",
    "        y = 0\n",
    "    elif(x > limp):\n",
    "        y = 1\n",
    "    else:\n",
    "        y = m*(x-limi) + 1\n",
    "    return y\n",
    "\n",
    "\n",
    "# DISTANCIA\n",
    "muy_cerca = lambda x: fun_liminf(0.2,0.4,x)"
   ]
  }
 ],
 "metadata": {
  "kernelspec": {
   "display_name": "myenv",
   "language": "python",
   "name": "myenv"
  },
  "language_info": {
   "codemirror_mode": {
    "name": "ipython",
    "version": 3
   },
   "file_extension": ".py",
   "mimetype": "text/x-python",
   "name": "python",
   "nbconvert_exporter": "python",
   "pygments_lexer": "ipython3",
   "version": "3.7.4"
  }
 },
 "nbformat": 4,
 "nbformat_minor": 2
}
