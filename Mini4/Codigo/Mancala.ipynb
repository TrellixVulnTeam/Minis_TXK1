{
 "cells": [
  {
   "cell_type": "markdown",
   "metadata": {},
   "source": [
    "# Mancala Game"
   ]
  },
  {
   "cell_type": "code",
   "execution_count": 5,
   "metadata": {},
   "outputs": [],
   "source": [
    "#se crean las casillas mancala la lista de tablero\n",
    "mancala = [0,0]\n",
    "\n",
    "board = [0]*2\n",
    "for i in range(2):\n",
    "    board[i] = [4]*6\n",
    "\n"
   ]
  },
  {
   "cell_type": "code",
   "execution_count": 8,
   "metadata": {},
   "outputs": [],
   "source": [
    "#objeto tablero\n",
    "    # tiene un tablero y mancalas\n",
    "    # metodo para realizar jugada de P1 o P2\n",
    "    # metodo para saber si fila x == 0\n",
    "\n",
    "class Tablero:\n",
    "    def __init__(self):\n",
    "        #inicializa el tablero y mancala\n",
    "        mancala = [0,0]\n",
    "        board = [0]*2\n",
    "        for i in range(2):\n",
    "            board[i] = [4]*6\n",
    "    \n",
    "    \n",
    "    #devuelve True si la fila seleccionada (i [0,1]) está vacía\n",
    "    def filaVacia(self,i):\n",
    "        for j in range(8):\n",
    "            if(board[i][j] != 0):\n",
    "                return False\n",
    "        return True"
   ]
  },
  {
   "cell_type": "code",
   "execution_count": null,
   "metadata": {},
   "outputs": [],
   "source": [
    "#objeto IA\n",
    "    # tiene metodo para realizar turno\n",
    "    # tiene metodo para realizar monte carlo\n"
   ]
  },
  {
   "cell_type": "code",
   "execution_count": null,
   "metadata": {},
   "outputs": [],
   "source": [
    "#Game\n",
    "    # decide a quien darle el turno\n",
    "    # tiene el objeto IA\n",
    "    # tiene la lógica del jugador humano"
   ]
  },
  {
   "cell_type": "code",
   "execution_count": 10,
   "metadata": {},
   "outputs": [
    {
     "name": "stdout",
     "output_type": "stream",
     "text": [
      "False\n"
     ]
    }
   ],
   "source": [
    "#test block\n",
    "game = Tablero()\n",
    "\n",
    "print(game.filaVacia(1))"
   ]
  },
  {
   "cell_type": "code",
   "execution_count": null,
   "metadata": {},
   "outputs": [],
   "source": []
  }
 ],
 "metadata": {
  "kernelspec": {
   "display_name": "myenv",
   "language": "python",
   "name": "myenv"
  },
  "language_info": {
   "codemirror_mode": {
    "name": "ipython",
    "version": 3
   },
   "file_extension": ".py",
   "mimetype": "text/x-python",
   "name": "python",
   "nbconvert_exporter": "python",
   "pygments_lexer": "ipython3",
   "version": "3.7.4"
  }
 },
 "nbformat": 4,
 "nbformat_minor": 2
}
