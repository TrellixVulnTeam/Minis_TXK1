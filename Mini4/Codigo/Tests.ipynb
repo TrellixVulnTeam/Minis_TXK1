{
 "cells": [
  {
   "cell_type": "code",
   "execution_count": 1,
   "metadata": {},
   "outputs": [
    {
     "name": "stdout",
     "output_type": "stream",
     "text": [
      "tests\n"
     ]
    }
   ],
   "source": [
    "print(\"tests\")"
   ]
  },
  {
   "cell_type": "code",
   "execution_count": 4,
   "metadata": {},
   "outputs": [
    {
     "name": "stdout",
     "output_type": "stream",
     "text": [
      "test\n",
      "test hola\n"
     ]
    }
   ],
   "source": [
    "a = input()\n",
    "print(a+\" hola\")"
   ]
  },
  {
   "cell_type": "code",
   "execution_count": 3,
   "metadata": {},
   "outputs": [
    {
     "name": "stdout",
     "output_type": "stream",
     "text": [
      "[[5, 4, 4, 4, 4, 4], [4, 4, 4, 4, 4, 4]]\n",
      "[1, 0]\n"
     ]
    }
   ],
   "source": [
    "mancala = [0,0]\n",
    "lista = [4]*2\n",
    "for i in range(2):\n",
    "    lista[i] = [4]*6\n",
    "lista[0][0] += 1\n",
    "mancala[0] +=1\n",
    "print(lista)\n",
    "print(mancala)\n"
   ]
  }
 ],
 "metadata": {
  "kernelspec": {
   "display_name": "myenv",
   "language": "python",
   "name": "myenv"
  },
  "language_info": {
   "codemirror_mode": {
    "name": "ipython",
    "version": 3
   },
   "file_extension": ".py",
   "mimetype": "text/x-python",
   "name": "python",
   "nbconvert_exporter": "python",
   "pygments_lexer": "ipython3",
   "version": "3.7.4"
  }
 },
 "nbformat": 4,
 "nbformat_minor": 2
}
