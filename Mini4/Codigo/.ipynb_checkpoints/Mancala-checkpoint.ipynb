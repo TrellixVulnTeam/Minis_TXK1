{
 "cells": [
  {
   "cell_type": "markdown",
   "metadata": {},
   "source": [
    "# Mancala Game"
   ]
  },
  {
   "cell_type": "code",
   "execution_count": 5,
   "metadata": {},
   "outputs": [],
   "source": [
    "#-------- ya no se usa ----------------\n",
    "#se crean las casillas mancala la lista de tablero\n",
    "mancala = [0,0]\n",
    "\n",
    "board = [0]*2\n",
    "for i in range(2):\n",
    "    board[i] = [4]*6\n",
    "\n"
   ]
  },
  {
   "cell_type": "code",
   "execution_count": 8,
   "metadata": {},
   "outputs": [],
   "source": [
    "#objeto tablero\n",
    "    # tiene un tablero y mancalas\n",
    "    # metodo para realizar jugada de P1 o P2\n",
    "    # metodo para saber si fila x == 0\n",
    "\n",
    "class Tablero:\n",
    "    def __init__(self):\n",
    "        #inicializa el tablero y mancala\n",
    "        mancala = [0,0]\n",
    "        board = [0]*2\n",
    "        for i in range(2):\n",
    "            board[i] = [4]*6\n",
    "    \n",
    "    \n",
    "    #devuelve True si la fila seleccionada (i [0,1]) está vacía\n",
    "    def fila_Vacia(self,i):\n",
    "        for j in range(8):\n",
    "            if(board[i][j] != 0):\n",
    "                return False\n",
    "        return True\n",
    "    \n",
    "    #realiza una jugada\n",
    "    def make_play(self, player, position):\n",
    "        if(player == 0):\n",
    "            tokens = board[player][position] #obtengo todas las fichas en la casilla\n",
    "            board[player][position] = 0 #remuevo todas las fichas de la casilla\n",
    "            \n",
    "            \n",
    "    def run_backward(self, player, position, tokens):\n",
    "        fill_c = position - 1 #la primera posicion a llenar\n",
    "        _tokens = tokens\n",
    "        #se toma en cuenta -1 por ser la casilla mancala para jugador 0\n",
    "        while((_tokens > 0) and (fill_c >-2)):\n",
    "            #not mancala\n",
    "            if(fill_c >-1):\n",
    "                board[0][fill_c] += 1\n",
    "                _tokens -= 1\n",
    "            #mancala\n",
    "            else:\n",
    "                if(player == 0):\n",
    "                    mancala[0] += 1\n",
    "                    _tokens -= 1\n",
    "            fill_c -= 1 #next position\n",
    "        return _tokens\n",
    "    \n",
    "    def run_forward(self, player, position, tokens):\n",
    "        fill_c = position - 1\n",
    "        _tokens = tokens\n",
    "        #se toma en cuenta 6 por ser la casilla mancala para jugador 1\n",
    "        while((_tokens > 0) and (fill_c < 7)):\n",
    "            #not mancala\n",
    "            if(fill_c < 6):\n",
    "                board[1][fill_c] += 1\n",
    "                _tokens -= 1\n",
    "            #mancala\n",
    "            else:\n",
    "                if(player == 1):\n",
    "                    mancala[1] += 1\n",
    "                    _tokens -= 1\n",
    "            fill_c -= 1 #next position\n",
    "        return _tokens\n",
    "                    \n",
    "    "
   ]
  },
  {
   "cell_type": "code",
   "execution_count": null,
   "metadata": {},
   "outputs": [],
   "source": [
    "#objeto IA\n",
    "    # tiene metodo para realizar turno\n",
    "    # tiene metodo para realizar monte carlo\n"
   ]
  },
  {
   "cell_type": "code",
   "execution_count": null,
   "metadata": {},
   "outputs": [],
   "source": [
    "#Game\n",
    "    # decide a quien darle el turno\n",
    "    # tiene el objeto IA\n",
    "    # tiene la lógica del jugador humano"
   ]
  },
  {
   "cell_type": "code",
   "execution_count": 10,
   "metadata": {},
   "outputs": [
    {
     "name": "stdout",
     "output_type": "stream",
     "text": [
      "False\n"
     ]
    }
   ],
   "source": [
    "#test block\n",
    "game = Tablero()\n",
    "\n",
    "print(game.filaVacia(1))"
   ]
  },
  {
   "cell_type": "code",
   "execution_count": null,
   "metadata": {},
   "outputs": [],
   "source": []
  }
 ],
 "metadata": {
  "kernelspec": {
   "display_name": "myenv",
   "language": "python",
   "name": "myenv"
  },
  "language_info": {
   "codemirror_mode": {
    "name": "ipython",
    "version": 3
   },
   "file_extension": ".py",
   "mimetype": "text/x-python",
   "name": "python",
   "nbconvert_exporter": "python",
   "pygments_lexer": "ipython3",
   "version": "3.7.4"
  }
 },
 "nbformat": 4,
 "nbformat_minor": 2
}
